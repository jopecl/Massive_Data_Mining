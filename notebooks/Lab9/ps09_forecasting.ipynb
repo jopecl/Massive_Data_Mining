{
 "cells": [
  {
   "cell_type": "markdown",
   "metadata": {},
   "source": [
    "# Practice Session 09: Forecasting\n",
    "\n",
    "In this session we will do some time series forecasting on a weather-related time series, which contains temperature, precipitation, and wind speed data for the Barcelona airport. \n",
    "\n",
    "<font size=\"-1\" color=\"gray\">(Remove this cell when delivering.)</font>"
   ]
  },
  {
   "cell_type": "markdown",
   "metadata": {},
   "source": [
    "Author: <font color=\"blue\">Your name here</font>\n",
    "\n",
    "E-mail: <font color=\"blue\">Your e-mail here</font>\n",
    "\n",
    "Date: <font color=\"blue\">The current date here</font>"
   ]
  },
  {
   "cell_type": "code",
   "execution_count": null,
   "metadata": {},
   "outputs": [],
   "source": [
    "import io\n",
    "import json\n",
    "import pandas as pd\n",
    "import datetime\n",
    "import matplotlib.pyplot as plt\n",
    "import numpy as np\n",
    "import scipy.stats as stats\n",
    "from sklearn.linear_model import LinearRegression\n",
    "from sklearn.metrics import mean_squared_error\n",
    "import math"
   ]
  },
  {
   "cell_type": "markdown",
   "metadata": {},
   "source": [
    "# 1. Dataset"
   ]
  },
  {
   "cell_type": "markdown",
   "metadata": {},
   "source": [
    "The dataset we will use is was obtained from [AEMET's Open Data](https://opendata.aemet.es/centrodedescargas/inicio) initiative. Anyone can request an API Key and then use their services to obtain climatological variables (\"*valores climatológicos*\").\n",
    "\n",
    "We will read it into a dataframe using Pandas' [read_csv](https://pandas.pydata.org/pandas-docs/stable/reference/api/pandas.read_csv.html) function.\n",
    "\n",
    "<font size=\"-1\" color=\"gray\">(Remove this cell when delivering.)</font>"
   ]
  },
  {
   "cell_type": "code",
   "execution_count": null,
   "metadata": {},
   "outputs": [],
   "source": [
    "# LEAVE AS-IS\n",
    "\n",
    "INPUT_FILE = \"aemet-barcelona-airport-2016-2024.json\"\n",
    "weather = pd.read_json(INPUT_FILE)\n",
    "\n",
    "weather.head(5)"
   ]
  },
  {
   "cell_type": "markdown",
   "metadata": {},
   "source": [
    "The columns on this dataset are as follows:\n",
    "\n",
    "| id          | description                                                         | data_type | units                      |\n",
    "| ----------- | ------------------------------------------------------------------- | ---------- | --------------------------- |\n",
    "| fecha       | date (AAAA-MM-DD)                                          | string           |                             |\n",
    "| indicativo  | *indicativo climatológico*                                            | string           |                             |\n",
    "| nombre      | name (location) of the station                                   | string           |                             |\n",
    "| provincia   | province of the station                                            | string           |                             |\n",
    "| altitud     | altitude of the station above sea level                  | float            | m                           |\n",
    "| tmed        | average daily temperature                                            | float           | grados celsius              |\n",
    "| prec        | daily rainfall from 07 to 07                                     | float           | mm (Ip = less than 0.1 mm) |\n",
    "| tmin        | minimum temperature of the day                                          | float           | ºC                          |\n",
    "| horatmin    | hour and minute of minimum temperature                              | string          | UTC                         |\n",
    "| tmax        | maximum temperature of the day                                          | float           | ºC                          |\n",
    "| horatmax    | hour and minute of maximum temperature                              | string          | UTC                         |\n",
    "| dir         | direction of the fastest wind gust                                        | float           | decenas de grado            |\n",
    "| velmedia    | average wind speed                                          | float           | m/s                         |\n",
    "| racha       | fastest wind gust                                             | float           | m/s                         |\n",
    "| horaracha   | hour and minute of fastest wind gust                                    | string          | UTC                         |\n",
    "| sol         | hours of sun                                                            | float           | hours                       |\n",
    "| presmax     | maximum pressure at the level of reference of the station               | float           | hPa                         |\n",
    "| horapresmax | hour of maximum pressure (rounded to nearest hour) | string          | UTC                         |\n",
    "| presmin     | minimum pressure at the level of reference of the station               | float           | hPa                         |\n",
    "| horapresmin | hour of minimum pressure (rounded to nearest hour) | string          | UTC\n",
    "\n",
    "Next, we will rename columns so that more people can understand their names, using the following equivalence:\n",
    "\n",
    "<font size=\"-1\" color=\"gray\">(Remove this cell when delivering.)</font>\n"
   ]
  },
  {
   "cell_type": "code",
   "execution_count": null,
   "metadata": {},
   "outputs": [],
   "source": [
    "# LEAVE AS-IS\n",
    "\n",
    "COLUMN_NAMES = {\n",
    "  \"fecha\" : \"date\",\n",
    "  \"indicativo\" : \"station_num\",\n",
    "  \"nombre\" : \"station_name\",\n",
    "  \"provincia\" : \"station_province\",\n",
    "  \"altitud\" : \"station_altitude\",\n",
    "  \"tmed\" : \"temp_avg\",\n",
    "  \"tmin\" : \"temp_min\",\n",
    "  \"tmax\" : \"temp_max\",\n",
    "  \"horatmin\" : \"time_temp_min\",\n",
    "  \"horatmax\" : \"time_temp_max\",\n",
    "  \"prec\" : \"rainfall\",\n",
    "  \"dir\" : \"windspeed_dir\",\n",
    "  \"velmedia\" : \"windspeed_avg\",\n",
    "  \"racha\" : \"windspeed_gusts\",\n",
    "  \"horaracha\" : \"time_windspeed_gusts\",\n",
    "  \"sol\" : \"sun\",\n",
    "  \"presMax\" : \"pressure_max\",\n",
    "  \"horaPresMax\" : \"time_pressure_max\",\n",
    "  \"presMin\" : \"pressure_min\",\n",
    "  \"horaPresMin\" : \"time_pressure_min\"\n",
    "}"
   ]
  },
  {
   "cell_type": "markdown",
   "metadata": {},
   "source": [
    "<font size=\"+1\" color=\"red\">Replace this cell with your code to rename column names, and print the first 5 rows of the data</font>"
   ]
  },
  {
   "cell_type": "markdown",
   "metadata": {},
   "source": [
    "<font size=\"+1\" color=\"red\">Replace this cell with your code to drop the station_num, station_name, station_province, station_altitude, and time_* columns, which we will not use, and print the first 10 rows of the data</font>"
   ]
  },
  {
   "cell_type": "markdown",
   "metadata": {},
   "source": [
    "Now, we need to process the numerical data. Note that this dataset contains many gaps as an instrument may malfunction, or some variable might not be recorded properly on a given day.\n",
    "\n",
    "Create a function ``str_commas_to_float(x)`` that converts numbers with commas, possibly represented as strings, into floating point numbers.\n",
    "\n",
    "Convert any ``Ip`` to 0.0. Everything else should be converted into **not-a-number** (``np.nan``).\n",
    "\n",
    "<font size=\"-1\" color=\"gray\">(Remove this cell when delivering.)</font>"
   ]
  },
  {
   "cell_type": "markdown",
   "metadata": {},
   "source": [
    "<font size=\"+1\" color=\"red\">Replace this cell with your code implementing *str_commas_to_float*.</font>"
   ]
  },
  {
   "cell_type": "markdown",
   "metadata": {},
   "source": [
    "Test it with the following cases:\n",
    "\n",
    "* When giving an empty string, the string \"Varias\", or the string \"06:30\", the function should return not a number.\n",
    "* With the strings \"0,0\" and \"Ip\", it should return a zero.\n",
    "* With a decimal string using a comma (e.g., \"13,5\") it should return the corresponding number (13.5)\n",
    "* With an integer as a string (e.g., \"13\") it should return the corresponding number (13.0)\n",
    "\n",
    "Use the assert function to do these tests, e.g.:\n",
    "\n",
    "```python\n",
    "assert 1 + 1 == 2\n",
    "```\n",
    "\n",
    "Use the function [numpy.isnan](https://numpy.org/doc/stable/reference/generated/numpy.isnan.html) to test whether something is a NaN (not a number) or not.\n",
    "\n",
    "```python\n",
    "assert np.isnan(...)\n",
    "```\n",
    "\n",
    "<font size=\"-1\" color=\"gray\">(Remove this cell when delivering.)</font>"
   ]
  },
  {
   "cell_type": "markdown",
   "metadata": {},
   "source": [
    "<font size=\"+1\" color=\"red\">Replace this cell with your code testing *str_commas_to_float*.</font>"
   ]
  },
  {
   "cell_type": "markdown",
   "metadata": {},
   "source": [
    "Apply this function to columns 'temp_min', 'temp_max', 'temp_avg', 'rainfall', 'windspeed_dir', 'windspeed_avg', 'windspeed_gusts', 'sun', 'pressure_min', 'pressure_max'.\n",
    "\n",
    "To apply function *f* to column *c* of dataframe *df*, we use `df[c] = df[c].apply(f)`.\n",
    "\n",
    "<font size=\"-1\" color=\"gray\">(Remove this cell when delivering.)</font>"
   ]
  },
  {
   "cell_type": "markdown",
   "metadata": {},
   "source": [
    "<font size=\"+1\" color=\"red\">Replace this cell with your code applying the above function to the specified columns.</font>"
   ]
  },
  {
   "cell_type": "markdown",
   "metadata": {},
   "source": [
    "The next code indexes the data by date.\n",
    "\n",
    "<font size=\"-1\" color=\"gray\">(Remove this cell when delivering.)</font>"
   ]
  },
  {
   "cell_type": "code",
   "execution_count": null,
   "metadata": {},
   "outputs": [],
   "source": [
    "# LEAVE AS-IS\n",
    "\n",
    "weather.set_index('date', inplace=True)\n",
    "weather.index = pd.to_datetime(weather.index)\n",
    "weather.head(3)"
   ]
  },
  {
   "cell_type": "markdown",
   "metadata": {},
   "source": [
    "The following functions, which you can leave as-is, are useful for plotting.\n",
    "\n",
    "<font size=\"-1\" color=\"gray\">(Remove this cell when delivering.)</font>"
   ]
  },
  {
   "cell_type": "code",
   "execution_count": null,
   "metadata": {},
   "outputs": [],
   "source": [
    "# LEAVE AS-IS\n",
    "\n",
    "# Configure font sizes\n",
    "plt.rc('font', size=10) \n",
    "plt.rc('axes', labelsize=16)\n",
    "plt.rc('legend', fontsize=16)"
   ]
  },
  {
   "cell_type": "code",
   "execution_count": null,
   "metadata": {},
   "outputs": [],
   "source": [
    "# LEAVE AS-IS\n",
    "\n",
    "# Plot function\n",
    "def plot(df, column, xlabel='Date', ylabel=''):\n",
    "    \n",
    "    # Create a figure\n",
    "    plt.figure(figsize=(16,5))\n",
    "\n",
    "    # Plot for dates\n",
    "    plt.plot_date(df.index, df[column],\n",
    "                  fmt='.-', color='black')\n",
    "\n",
    "    # Label axis\n",
    "    plt.xlabel(xlabel)\n",
    "    plt.ylabel(ylabel)\n",
    "\n",
    "    plt.show()\n",
    "\n",
    "\n",
    "def plot_min_avg_max(df, min_column='temp_min', avg_column='temp_avg', max_column='temp_max', xlabel='Date', ylabel='Daily temperature [C]'):\n",
    "\n",
    "    # Create a figure\n",
    "    plt.figure(figsize=(16,5))\n",
    "\n",
    "    # Plot for dates\n",
    "    plt.plot_date(df.index, df[avg_column],\n",
    "                  fmt='.-', color='black', label='Average')\n",
    "    plt.fill_between(df.index, df[min_column], df[max_column],\n",
    "                     color='lightgray')\n",
    "    plt.legend()\n",
    "\n",
    "    # Label axis\n",
    "    plt.xlabel(xlabel)\n",
    "    plt.ylabel(ylabel)\n",
    "\n",
    "    plt.show()"
   ]
  },
  {
   "cell_type": "markdown",
   "metadata": {},
   "source": [
    "We can now plot some values. Note that there are gaps in the temperature series, particularly on the first half of 2018.\n",
    "\n",
    "<font size=\"-1\" color=\"gray\">(Remove this cell when delivering.)</font>"
   ]
  },
  {
   "cell_type": "code",
   "execution_count": null,
   "metadata": {},
   "outputs": [],
   "source": [
    "# LEAVE AS-IS\n",
    "\n",
    "# Retrieve the last 7 years\n",
    "weather_sample = weather.tail(7*365)\n",
    "\n",
    "# Plot temperature\n",
    "plot_min_avg_max(weather_sample)\n",
    "\n",
    "# Plot precipitation\n",
    "plot(weather_sample, \"rainfall\", ylabel=\"Daily precipitation [mm]\")"
   ]
  },
  {
   "cell_type": "markdown",
   "metadata": {},
   "source": [
    "<font size=\"+1\" color=\"red\">Replace this cell with a brief commentary on these two plots. Answer the following: do you observe seasonality in one of these plots? Can you describe what time of seasonality do you observe?</font>"
   ]
  },
  {
   "cell_type": "markdown",
   "metadata": {},
   "source": [
    "# 1. Smooth this series\n",
    "\n",
    "The original series has strong variations from one day to the next one, so we will smooth the series before using it. Here we will use three smoothing methods: moving averages, binning by floating time periods, and binning by calendar time periods.\n",
    "\n",
    "<font size=\"-1\" color=\"gray\">(Remove this cell when delivering.)</font>"
   ]
  },
  {
   "cell_type": "markdown",
   "metadata": {},
   "source": [
    "## 1.1 Smooth the series using moving averages"
   ]
  },
  {
   "cell_type": "markdown",
   "metadata": {},
   "source": [
    "We will compute a moving average of the previous `window_size` days (e.g., 7) as a way of smoothing the time series. Create a function `moving_average(df, window_size)` that computes a **moving average on all columns** of the given dataframe, and returs a new dataframe with the averages. This function can assume that all columns in the input dataframe are numeric.\n",
    "\n",
    "A possible implementation is to iterate through numbers from `0` to `len(df)` and create a sub-dataframe of up to `window_size` rows with the corresponding rows. If you choose to implement in this way, you can use the following template:\n",
    "\n",
    "```python\n",
    "def moving_average(df, window_size):\n",
    "\n",
    "    averages = []\n",
    "    \n",
    "    for i in range(len(df)):\n",
    "        \n",
    "        # Extract a window from the dataframe\n",
    "        # YOUR CODE HERE\n",
    "        \n",
    "        # Compute the average\n",
    "        average = window.mean(numeric_only=True)\n",
    "        \n",
    "        # Append the average to the list of averages\n",
    "        averages.append(average)\n",
    "\n",
    "    # Create the dataframe that will be returned\n",
    "    smoothed = pd.DataFrame(averages, columns=df.columns)\n",
    "    smoothed.set_index(df.index, inplace=True)\n",
    "    \n",
    "    return smoothed\n",
    "```\n",
    "\n",
    "The following might be helpful:\n",
    "\n",
    "* `window = df.iloc[a:b]` to return rows from *a* to *b* on a dataframe.\n",
    "* `window.mean(numeric_only=True)` to obtain a series containing the averages of all columns in a dataframe.\n",
    "\n",
    "If you feel more comfortable working with matrices, you can also use matrices instead of dataframes, and you can also instead of creating a sub-dataframe compute in-place.\n",
    "\n",
    "<font size=\"-1\" color=\"gray\">(Remove this cell when delivering.)</font>"
   ]
  },
  {
   "cell_type": "markdown",
   "metadata": {},
   "source": [
    "<font size=\"+1\" color=\"red\">Replace this cell with your implementation of \"moving_average\"</font>"
   ]
  },
  {
   "cell_type": "markdown",
   "metadata": {},
   "source": [
    "Apply this code over the `weather`  correct by verifying the following:\n",
    "\n",
    "* For day 1, it should be equivalent to the original series\n",
    "* For day 2, it should be the average of the first two days of the original series\n",
    "* For day 7, it should be the average of the first 7 days of the original series\n",
    "* For day 8, it should be the average of the second to the eight day of the original series\n",
    "* For the last day, it should be the average of the last 7 days in the series\n",
    "\n",
    "<font size=\"-1\" color=\"gray\">(Remove this cell when delivering.)</font>"
   ]
  },
  {
   "cell_type": "code",
   "execution_count": null,
   "metadata": {},
   "outputs": [],
   "source": [
    "# LEAVE AS-IS\n",
    "\n",
    "window_size = 7\n",
    "\n",
    "weather_smoothed = moving_average(weather, window_size)\n",
    "\n",
    "weather_smoothed.head(10)"
   ]
  },
  {
   "cell_type": "markdown",
   "metadata": {},
   "source": [
    "Now we plot the resulting series, observing that it is, well, smoother.\n",
    "\n",
    "<font size=\"-1\" color=\"gray\">(Remove this cell when delivering.)</font>"
   ]
  },
  {
   "cell_type": "code",
   "execution_count": null,
   "metadata": {},
   "outputs": [],
   "source": [
    "# LEAVE AS-IS\n",
    "\n",
    "# Sample last 7 years\n",
    "weather_smoothed_sample = weather_smoothed.tail(7*365)\n",
    "\n",
    "# Plot smoothed temperature\n",
    "plot_min_avg_max(weather_smoothed_sample, ylabel='Daily temperature, smoothed [C]')\n",
    "\n",
    "# Plot smoothed precipitation\n",
    "plot(weather_smoothed_sample, \"rainfall\", ylabel=\"Daily precipitation, smoothed [mm]\")"
   ]
  },
  {
   "cell_type": "markdown",
   "metadata": {},
   "source": [
    "<font size=\"+1\" color=\"red\">Replace this cell with a brief commentary indicating what are the key difficulties when implementing a function for \"moving_average\"</font>"
   ]
  },
  {
   "cell_type": "markdown",
   "metadata": {},
   "source": [
    "Next, test what happens if you repeat the moving average process many times.\n",
    "\n",
    "For this, remember to create a copy of the original dataset, so you don't modify your original dataset:\n",
    "\n",
    "```python\n",
    "test = weather.copy()\n",
    "```\n",
    "\n",
    "<font size=\"-1\" color=\"gray\">(Remove this cell when delivering.)</font>"
   ]
  },
  {
   "cell_type": "markdown",
   "metadata": {},
   "source": [
    "<font size=\"+1\" color=\"red\">Replace this cell with code that creates a separate ``test`` dataset, and smooths this ``test`` dataset 20 times. **Do not modify your original dataset**, this is just a test. Plot the smoothed daily temperature and smoothed daily precipitation in the ``test`` dataset.</font>"
   ]
  },
  {
   "cell_type": "markdown",
   "metadata": {},
   "source": [
    "<font size=\"+1\" color=\"red\">Replace this cell with a brief commentary on what you see in the repeatedly smoothed dataset. Why does this happen?</font>"
   ]
  },
  {
   "cell_type": "markdown",
   "metadata": {},
   "source": [
    "## 1.2. Smooth the series by binning per floating weeks"
   ]
  },
  {
   "cell_type": "markdown",
   "metadata": {},
   "source": [
    "Note: Pandas have powerful methods for [re-sampling a series](https://pandas.pydata.org/pandas-docs/stable/reference/api/pandas.DataFrame.resample.html) that we will **not** use. Instead, we want to understand every step of the resampling process.\n",
    "\n",
    "First, we build a list of `weeks` that starts with the first day of the studied period and then adds one week until passing over the last day of the studied period.\n",
    "\n",
    "You can use the following template:\n",
    "\n",
    "```python\n",
    "def list_of_floating_week_starts(first, last):\n",
    "    weeks = []\n",
    "    \n",
    "    # YOUR CODE HERE\n",
    "    \n",
    "    return(weeks)\n",
    "```\n",
    "\n",
    "In the list that should be generated:\n",
    "\n",
    "* The first element should be *first*\n",
    "* The next elements should be *first + 1 week*, *first + 2 weeks*, ...\n",
    "* The last element should be in the week after *last*\n",
    "\n",
    "To add one week to date *D*, use `D + datetime.timedelta(weeks=1)`.\n",
    "\n",
    "<font size=\"-1\" color=\"gray\">(Remove this cell when delivering.)</font>"
   ]
  },
  {
   "cell_type": "markdown",
   "metadata": {},
   "source": [
    "<font size=\"+1\" color=\"red\">Replace this cell with your code for \"list_of_floating_week_starts\"</font>"
   ]
  },
  {
   "cell_type": "markdown",
   "metadata": {},
   "source": [
    "There should be **427** week starts in your dataset, if you have just 426, you need to add one more in the end, it will make your life easier. Note these weeks *float* because they do not start in the calendar start of the week, such as Monday.\n",
    " \n",
    " <font size=\"-1\" color=\"gray\">(Remove this cell when delivering.)</font>"
   ]
  },
  {
   "cell_type": "code",
   "execution_count": null,
   "metadata": {},
   "outputs": [],
   "source": [
    "# LEAVE AS-IS\n",
    "\n",
    "# Remember that our data frame is indexedb by date\n",
    "first_day = np.min(weather.index)\n",
    "last_day = np.max(weather.index)\n",
    "\n",
    "# Obtain the list of weeks\n",
    "weeks = list_of_floating_week_starts(first_day, last_day)\n",
    "\n",
    "# Print the list of weeks\n",
    "print(\"There are %d week starts\" % len(weeks))\n",
    "print(\"First week starts %s, last week starts %s\" %\n",
    "      (weeks[0].strftime(\"%Y-%m-%d\"), weeks[-1].strftime(\"%Y-%m-%d\")))"
   ]
  },
  {
   "cell_type": "markdown",
   "metadata": {},
   "source": [
    "Now, we find the week that corresponds to every element in the time_series.\n",
    "\n",
    " <font size=\"-1\" color=\"gray\">(Remove this cell when delivering.)</font>"
   ]
  },
  {
   "cell_type": "code",
   "execution_count": null,
   "metadata": {},
   "outputs": [],
   "source": [
    "# LEAVE AS-IS\n",
    "\n",
    "# Create a map from dates to week starts\n",
    "date_to_week_start= {}\n",
    "week_num = 0\n",
    "for date, row in weather.iterrows():\n",
    "    while not (date >= weeks[week_num] and date < weeks[week_num+1]):\n",
    "        week_num += 1\n",
    "    date_to_week_start[date] = weeks[week_num]\n",
    "    \n",
    "# Create a new dataframe with an extra column\n",
    "weather_with_week_start = weather\n",
    "weather_with_week_start['week_start'] = [date_to_week_start[date] for date in weather.index]\n",
    "weather_with_week_start.head(10)"
   ]
  },
  {
   "cell_type": "markdown",
   "metadata": {},
   "source": [
    "Third, we create a new dataframe with the average temperature (min, avg, max), and the total rainfall per floating week.\n",
    "\n",
    "You can solve this by creating a matrix and then converting into a dataframe.\n",
    "\n",
    "You can also use Panda's [groupby](https://pandas.pydata.org/pandas-docs/stable/reference/api/pandas.DataFrame.groupby.html) function together with the [aggregate](https://pandas.pydata.org/pandas-docs/stable/reference/api/pandas.DataFrame.aggregate.html) function. There are many different ways of passing parameters to `aggregate`, check the one in which you pass a dictionary in which the keys are column names and the values are functions (in this case, you should use `np.mean` for `temp_*` and `np.sum` for `rainfall`).\n",
    "\n",
    " <font size=\"-1\" color=\"gray\">(Remove this cell when delivering.)</font>"
   ]
  },
  {
   "cell_type": "markdown",
   "metadata": {},
   "source": [
    "<font size=\"+1\" color=\"red\">Replace this cell with your code to generate the \"weather_per_floating_week\" dataframe</font>"
   ]
  },
  {
   "cell_type": "code",
   "execution_count": null,
   "metadata": {},
   "outputs": [],
   "source": [
    "# LEAVE AS-IS\n",
    "\n",
    "# Retrieve the past 5 years\n",
    "weather_sample = weather_per_floating_week.tail(7*52)\n",
    "\n",
    "# Plot temperature\n",
    "plot_min_avg_max(weather_sample, ylabel=\"Weekly average of temperature [C]\")\n",
    "\n",
    "# Plot precipitation\n",
    "plot(weather_sample, \"rainfall\", ylabel=\"Weekly precipitation [mm]\")"
   ]
  },
  {
   "cell_type": "markdown",
   "metadata": {},
   "source": [
    "<font size=\"+1\" color=\"red\">Replace this cell with a brief commentary of what you observe on these plots.</font>"
   ]
  },
  {
   "cell_type": "markdown",
   "metadata": {},
   "source": [
    "## 1.3. Smooth the series by binning per month"
   ]
  },
  {
   "cell_type": "markdown",
   "metadata": {},
   "source": [
    "Now we repeat the process for months instead of weeks. Now, however, we want to align with the **beginning of a calendar month**.\n",
    "\n",
    "Create the function `list_of_month_starts(first, last)`. It should return an array containing entries of the form *Year-Month-01*, that is the first of every month. It should start with the first of the month of the first observation, and end with the first of the month following the last observation.\n",
    "\n",
    "* Given date D, to obtain the first of the month use `D1 = D.replace(day=1)`\n",
    "* Given date D, to obtain the same date in the next month:\n",
    "   * If *D.month < 12*, use `D2 = D.replace(month=D.month+1)`\n",
    "   * If *D.month == 12*, use `D2 = D.replace(year=D.year+1, month=1)`\n",
    "\n",
    " <font size=\"-1\" color=\"gray\">(Remove this cell when delivering.)</font>"
   ]
  },
  {
   "cell_type": "markdown",
   "metadata": {},
   "source": [
    "You should obtain **99** month starts. The first month should start on *2016-07-01* and the last month start on *2024-09-01*. Note that the last month may start after the end of the series. \n",
    "\n",
    " <font size=\"-1\" color=\"gray\">(Remove this cell when delivering.)</font>"
   ]
  },
  {
   "cell_type": "code",
   "execution_count": null,
   "metadata": {},
   "outputs": [],
   "source": [
    "# LEAVE AS-IS\n",
    "\n",
    "first_day = np.min(weather.index)\n",
    "last_day = np.max(weather.index)\n",
    "months = list_of_month_starts(first_day, last_day)\n",
    "\n",
    "print(\"There are %d month starts\" % len(months))\n",
    "print(\"First month starts %s, last month starts %s\" % (months[0].strftime(\"%Y-%m-%d\"), months[-1].strftime(\"%Y-%m-%d\")))"
   ]
  },
  {
   "cell_type": "markdown",
   "metadata": {},
   "source": [
    "As before, we create a dataframe with the month start.\n",
    "\n",
    " <font size=\"-1\" color=\"gray\">(Remove this cell when delivering.)</font>"
   ]
  },
  {
   "cell_type": "code",
   "execution_count": null,
   "metadata": {},
   "outputs": [],
   "source": [
    "# LEAVE AS-IS\n",
    "\n",
    "# Create a map from dates to week starts\n",
    "date_to_month_start= {}\n",
    "month_num = 0\n",
    "for date, row in weather.iterrows():\n",
    "    while not (date >= months[month_num] and date < months[month_num+1]):\n",
    "        month_num += 1\n",
    "    date_to_month_start[date] = months[month_num]\n",
    "    \n",
    "# Create a new dataframe with an extra column\n",
    "weather_with_month_start = weather\n",
    "weather_with_month_start['month_start'] = [date_to_month_start[date] for date in weather.index]\n",
    "weather_with_month_start"
   ]
  },
  {
   "cell_type": "markdown",
   "metadata": {},
   "source": [
    "As before, aggregate per month to create a dataframe with averages of `temp_min`, `temp_avg`, and `temp_max` per month, and sum of `rainfall`.\n",
    "\n",
    " <font size=\"-1\" color=\"gray\">(Remove this cell when delivering.)</font>"
   ]
  },
  {
   "cell_type": "markdown",
   "metadata": {},
   "source": [
    "<font size=\"+1\" color=\"red\">Replace this cell with your code to generate the \"weather_per_month\" dataframe</font>"
   ]
  },
  {
   "cell_type": "code",
   "execution_count": null,
   "metadata": {},
   "outputs": [],
   "source": [
    "# LEAVE AS-IS\n",
    "\n",
    "# Retrieve the last 7 years\n",
    "weather_sample = weather_per_month.tail(7*12)\n",
    "\n",
    "# Plot temperature\n",
    "plot_min_avg_max(weather_sample, ylabel=\"Monthly average temperature [mm]\")\n",
    "\n",
    "# Plot precipitation\n",
    "plot(weather_sample, \"rainfall\", ylabel=\"Monthly precitation [mm]\")"
   ]
  },
  {
   "cell_type": "markdown",
   "metadata": {},
   "source": [
    "<font size=\"+1\" color=\"red\">Replace this cell with a brief commentary of what you observe on these plots.</font>"
   ]
  },
  {
   "cell_type": "markdown",
   "metadata": {},
   "source": [
    "# 2. Perform forecasting"
   ]
  },
  {
   "cell_type": "markdown",
   "metadata": {},
   "source": [
    "We will next perform a simple auto-regressive forecasting.\n",
    "\n",
    "<font size=\"-1\" color=\"gray\">(Remove this cell when delivering.)</font>"
   ]
  },
  {
   "cell_type": "markdown",
   "metadata": {},
   "source": [
    "## 2.1. Compute auto-correlation plots"
   ]
  },
  {
   "cell_type": "markdown",
   "metadata": {},
   "source": [
    "We will start by computing auto-correlation plots, which show to what extent a series is correlated with itself if we consider a certain `lag`, or time difference.\n",
    "\n",
    "The function `lagged_series` returns the original series trimmed so it is the same length of the lagged series, and the lagged series computed by looking at *lag* periods in the past. \n",
    "\n",
    "You can use the following template:\n",
    "\n",
    "```python\n",
    "def lagged_series(series, lag):\n",
    "    original_trimmed = []\n",
    "    lagged = []\n",
    "    for i in range(len(series)):\n",
    "        j = i - lag\n",
    "        # YOUR CODE HERE\n",
    "        # You have to append series[i] to original and series[j] to lagged\n",
    "        # but only if j is in [0, len(series)-1]\n",
    "    return original_trimmed, lagged\n",
    "```\n",
    "\n",
    "<font size=\"-1\" color=\"gray\">(Remove this cell when delivering.)</font>"
   ]
  },
  {
   "cell_type": "markdown",
   "metadata": {},
   "source": [
    "<font size=\"+1\" color=\"red\">Replace this cell with your code for \"lagged_series\"</font>"
   ]
  },
  {
   "cell_type": "markdown",
   "metadata": {},
   "source": [
    "Test your function with the following code.\n",
    "\n",
    "<font size=\"-1\" color=\"gray\">(Remove this cell when delivering.)</font>"
   ]
  },
  {
   "cell_type": "code",
   "execution_count": null,
   "metadata": {},
   "outputs": [],
   "source": [
    "# LEAVE AS-IS\n",
    "\n",
    "assert ([44, 55, 66, 77, 88], [11, 22, 33, 44, 55]) == lagged_series([11,22,33,44,55,66,77,88], 3)\n",
    "\n",
    "assert ([33, 44, 55, 66, 77, 88], [11, 22, 33, 44, 55, 66]) == lagged_series([11,22,33,44,55,66,77,88], 2)\n",
    "\n",
    "assert ([22, 33, 44, 55, 66, 77, 88], [11, 22, 33, 44, 55, 66, 77]) == lagged_series([11,22,33,44,55,66,77,88], 1)\n"
   ]
  },
  {
   "cell_type": "markdown",
   "metadata": {},
   "source": [
    "The function `autocorrelation`, which you can leave as-is, simply computes Pearson's correlation between a series and the series lagged *lag* periods.\n",
    "\n",
    "<font size=\"-1\" color=\"gray\">(Remove this cell when delivering.)</font>"
   ]
  },
  {
   "cell_type": "code",
   "execution_count": null,
   "metadata": {},
   "outputs": [],
   "source": [
    "# LEAVE AS-IS\n",
    "\n",
    "# Computes the correlation between two vectors, considering\n",
    "# only the positions in which both vectors are not NaN\n",
    "def correlation_without_nan(x,y):\n",
    "    positions_to_remove = ~np.logical_or(np.isnan(x), np.isnan(y))\n",
    "\n",
    "    x_without_nan = np.compress(positions_to_remove, x)\n",
    "    y_without_nan = np.compress(positions_to_remove, y)\n",
    "    return stats.pearsonr(x_without_nan,y_without_nan)[0]  \n",
    "\n",
    "# Compute autocorrelation\n",
    "def autocorrelation(series, lag):\n",
    "    x,y = lagged_series(series, lag)\n",
    "            \n",
    "    return correlation_without_nan(x,y)"
   ]
  },
  {
   "cell_type": "markdown",
   "metadata": {},
   "source": [
    "Now we will create auto-correlation plots. Create a function `compute_autocorrelations(series, max_periods)` that returns all the auto-correlations of a series from period `0` to `max_periods-1`.\n",
    "\n",
    "Use this function to create an array `auto_correlation_temp` containing the correlations of `weather['temp_avg']`, `auto_correlation_temp_max` containing the correlations of `weather['temp_max']`, and an array `auto_correlation_rainfall` containing the correlations of `weather['rainfall']`.\n",
    "\n",
    "Use `max_periods=2*365`.\n",
    "\n",
    "<font size=\"-1\" color=\"gray\">(Remove this cell when delivering.)</font>"
   ]
  },
  {
   "cell_type": "markdown",
   "metadata": {},
   "source": [
    "<font size=\"+1\" color=\"red\">Replace this cell with your code to compute \"auto_correlations_temp\" and \"auto_correlations_rainfall\"</font>"
   ]
  },
  {
   "cell_type": "markdown",
   "metadata": {},
   "source": [
    "Now we plot these.\n",
    "\n",
    "<font size=\"-1\" color=\"gray\">(Remove this cell when delivering.)</font>"
   ]
  },
  {
   "cell_type": "code",
   "execution_count": null,
   "metadata": {},
   "outputs": [],
   "source": [
    "# LEAVE AS-IS\n",
    "\n",
    "def plot_auto_correlations(correlations, xlabel=\"Lag (days)\", ylabel=\"Autocorrelation\"):\n",
    "    # Figure\n",
    "    plt.figure(figsize=(15,4))\n",
    "\n",
    "    # Plot correlation\n",
    "    plt.plot(range(len(correlations)), correlations, '-o')\n",
    "\n",
    "    # Add xticks every 10 periods\n",
    "    plt.xticks(np.arange(0, len(correlations), 10), rotation=90)\n",
    "\n",
    "    # Add a horizontal line at zero\n",
    "    plt.hlines(0, xmin=0, xmax=len(correlations))\n",
    "\n",
    "    # Add labels\n",
    "    plt.xlabel(xlabel)\n",
    "    plt.ylabel(ylabel)\n",
    "\n",
    "    plt.show()"
   ]
  },
  {
   "cell_type": "code",
   "execution_count": null,
   "metadata": {},
   "outputs": [],
   "source": [
    "# LEAVE AS-IS\n",
    "\n",
    "# Plot max temperature auto-correlation\n",
    "plot_auto_correlations(auto_correlations_temp_max, ylabel=\"Autocorrelation (temperature max)\")\n",
    "\n",
    "# Plot avg temperature auto-correlation\n",
    "plot_auto_correlations(auto_correlations_temp, ylabel=\"Autocorrelation (temperature avg)\")\n",
    "\n",
    "# Plot precipitation auto-correlation\n",
    "plot_auto_correlations(auto_correlations_rainfall, ylabel=\"Autocorrelation (precipitation)\")"
   ]
  },
  {
   "cell_type": "markdown",
   "metadata": {},
   "source": [
    "<font size=\"+1\" color=\"red\">Replace this cell with a brief commentary on what you see on these plots. What do these autocorrelations indicate about the temperature data? What do these autocorrelations indicate about the precipitation data?</font>"
   ]
  },
  {
   "cell_type": "markdown",
   "metadata": {},
   "source": [
    "It might be the case that aggregating by week we obtain a stronger auto-correlation of the precipitation time series. Let us try it.\n",
    "\n",
    "<font size=\"-1\" color=\"gray\">(Remove this cell when delivering.)</font>"
   ]
  },
  {
   "cell_type": "code",
   "execution_count": null,
   "metadata": {},
   "outputs": [],
   "source": [
    "# LEAVE AS-IS\n",
    "\n",
    "auto_correlations_rainfall_week = compute_autocorrelations(weather_per_floating_week['rainfall'], 200)\n",
    "\n",
    "plot_auto_correlations(auto_correlations_rainfall_week, xlabel='Lag (weeks)', ylabel=\"Autocorrelation (precipitation)\")"
   ]
  },
  {
   "cell_type": "markdown",
   "metadata": {},
   "source": [
    "<font size=\"+1\" color=\"red\">Replace this cell with a brief commentary on what you see on this plot. Do you think the correlations you observe in the weekly time series of precipitation (aside from the one at lag=1) come from a real phenomenon, or are spurious? Why?</font>"
   ]
  },
  {
   "cell_type": "markdown",
   "metadata": {},
   "source": [
    "## 2.2. Prepare a system of equations to learn an auto-regressive model"
   ]
  },
  {
   "cell_type": "markdown",
   "metadata": {},
   "source": [
    "We will now learn an auto-regressive model, which computes the current value from a series of values in the past, at different *lags*.\n",
    "\n",
    "**Example:** In the explanation we will assume there are two lags (2, 3) only. This means that the value will be predicted on the basis of the value observed 2 and 3 periods ago. The equation is then *y[i] = y[i-2] x alpha + y[i-3] x beta*, with *alpha* and *beta* being two unknown coefficients that we must determine. Suppose the series is: [11, 19, 32, 38, 51, 58, 68, 81]. From this series, we create the following system of equations.\n",
    "\n",
    "* 19 x alpha + 11 x beta = 38\n",
    "* 32 x alpha + 19 x beta = 51\n",
    "* ...\n",
    "* 58 x alpha + 51 x beta = 81\n",
    "\n",
    "Unless the data is generated by a very specific process, we will seldom satisfy this system of equations, but we can approximately satisfy it. We will use SciKit's [LinearRegression](https://scikit-learn.org/stable/modules/generated/sklearn.linear_model.LinearRegression.html) to obtain *alpha* and *beta*. To use this function, we need to prepare to matrices: *X*, which will contain the numbers in the left side of the equations, and *y* which will be a vector containing the numbers in the right side of the equations.\n",
    "\n",
    "Create a function `prepare_matrices`. You can use the following template:\n",
    "\n",
    "```python\n",
    "def prepare_matrices(series, lags):\n",
    "    y = []\n",
    "    X = []\n",
    "    \n",
    "    for lag in lags:\n",
    "        assert(lag > 0)\n",
    "        assert(lag < len(series))\n",
    "    \n",
    "    for i in range(np.max(lags), len(series)):\n",
    "        # YOUR CODE HERE\n",
    "        \n",
    "        X.append(row)\n",
    "        y.append(series[i])\n",
    "        \n",
    "    return X, y\n",
    "```\n",
    "\n",
    "<font size=\"-1\" color=\"gray\">(Remove this cell when delivering.)</font>"
   ]
  },
  {
   "cell_type": "markdown",
   "metadata": {},
   "source": [
    "<font size=\"+1\" color=\"red\">Replace this cell with your code for \"prepare_matrices\"</font>"
   ]
  },
  {
   "cell_type": "markdown",
   "metadata": {},
   "source": [
    "Test your code. Given the series `[11, 15, 32, 37, 52, 54, 70, 89]` and lags `[2, 3]`, you should obtain:\n",
    "\n",
    "```\n",
    "X=[[15, 11], [32, 15], [37, 32], [52, 37], [54, 52]]\n",
    "y=[37, 52, 54, 70, 89]\n",
    "```\n",
    "\n",
    "<font size=\"-1\" color=\"gray\">(Remove this cell when delivering.)</font>"
   ]
  },
  {
   "cell_type": "code",
   "execution_count": null,
   "metadata": {},
   "outputs": [],
   "source": [
    "# LEAVE AS-IS\n",
    "\n",
    "X, y = prepare_matrices([11, 15, 32, 37, 52, 54, 70, 89], [2, 3])\n",
    "print(\"X=%s\" % X)\n",
    "print(\"y=%s\" % y)"
   ]
  },
  {
   "cell_type": "markdown",
   "metadata": {},
   "source": [
    "Notice that your code must handle well missing values. If any of the equations contains a NaN in the left or right side, you should discard it. In other words, X cannot contains vectors that have NaN values, and y cannot contain NaN values.\n",
    "\n",
    "For instance, given the series `[11, 15, 32, np.nan, 52, 54, 70, 89]` and lags `[2, 3]`, you should obtain:\n",
    "\n",
    "```\n",
    "X=[[32, 15], [54, 52]]\n",
    "y=[52, 89]\n",
    "```\n",
    "\n",
    "<font size=\"-1\" color=\"gray\">(Remove this cell when delivering.)</font>"
   ]
  },
  {
   "cell_type": "code",
   "execution_count": null,
   "metadata": {},
   "outputs": [],
   "source": [
    "# LEAVE AS-IS\n",
    "\n",
    "X, y = prepare_matrices([11, 15, 32, np.nan, 52, 54, 70, 89], [2, 3])\n",
    "print(\"X=%s\" % X)\n",
    "print(\"y=%s\" % y)"
   ]
  },
  {
   "cell_type": "markdown",
   "metadata": {},
   "source": [
    "## 2.3. Perform forecasts"
   ]
  },
  {
   "cell_type": "markdown",
   "metadata": {},
   "source": [
    "We first define a couple of functions to perform and plot the forecast, which you can leave as-is.\n",
    "\n",
    "Function `perform_forecast` simply uses your `prepare_matrices` function to prepare a system of equations, and then calls [LinearRegression](https://scikit-learn.org/stable/modules/generated/sklearn.linear_model.LinearRegression.html) in SciKit-Learn to try to find a solution.\n",
    "\n",
    "We measured the error as RMSE (Root Mean Squared Error) divided by the difference between the maximum and minimum value we want to predict. See [NRMSD](https://en.wikipedia.org/wiki/Root-mean-square_deviation#Normalized_root-mean-square_deviation).\n",
    "\n",
    "<font size=\"-1\" color=\"gray\">(Remove this cell when delivering.)</font>"
   ]
  },
  {
   "cell_type": "code",
   "execution_count": null,
   "metadata": {},
   "outputs": [],
   "source": [
    "# LEAVE AS-IS\n",
    "\n",
    "def perform_forecast(series, lags):\n",
    "\n",
    "    # Prepare matrices for linear regression\n",
    "    X, y = prepare_matrices(series, lags)\n",
    "\n",
    "    # Perform forecast\n",
    "    linear_regressor = LinearRegression()\n",
    "    linear_regressor.fit(X,y)\n",
    "    y_pred = linear_regressor.predict(X)\n",
    "\n",
    "    # Compute forecasting error\n",
    "    # Root mean squared error, normalized\n",
    "    rmse = math.sqrt(mean_squared_error(y, y_pred))/(np.max(y)-np.min(y))\n",
    "    \n",
    "    # Return: observed, predicted, error\n",
    "    return (y, y_pred, rmse)\n",
    "\n",
    "def plot_forecast(y, y_pred, xlabel=\"Period\", ylabel=\"\", nrmsd=-1):\n",
    "\n",
    "    plt.figure(figsize=(15,4))\n",
    "    \n",
    "    plt.plot(y, '.-', linewidth=4, color='gray', label='Observed')\n",
    "    plt.plot(y_pred, '--', linewidth=2, color='green', label=('Model (NRMSD=%.2f)' % nrmsd if nrmsd > 0 else 'Model'))\n",
    "    \n",
    "    plt.xlabel(xlabel)\n",
    "    plt.ylabel(ylabel)\n",
    "\n",
    "    plt.legend()\n",
    "    plt.show()"
   ]
  },
  {
   "cell_type": "markdown",
   "metadata": {},
   "source": [
    "First, predict the monthly temperature. Set `lags_monthly_temperature = [...]` to be an array of up to 4 lags. Use the auto-correlation plots you draw before as a guideline.\n",
    "\n",
    "<font size=\"-1\" color=\"gray\">(Remove this cell when delivering.)</font>"
   ]
  },
  {
   "cell_type": "markdown",
   "metadata": {},
   "source": [
    "<font size=\"+1\" color=\"red\">Replace this cell with your choice for \"lags_monthly_temperature\"</font>"
   ]
  },
  {
   "cell_type": "code",
   "execution_count": null,
   "metadata": {},
   "outputs": [],
   "source": [
    "# LEAVE AS-IS\n",
    "\n",
    "(y, y_pred, nrmsd) = perform_forecast(weather_per_month['temp_avg'],\n",
    "                                      lags_monthly_temperature)\n",
    "\n",
    "plot_forecast(y, y_pred,\n",
    "              xlabel=\"Period [months]\",\n",
    "              ylabel=\"Monthly temperature [C]\",\n",
    "              nrmsd=nrmsd)"
   ]
  },
  {
   "cell_type": "markdown",
   "metadata": {},
   "source": [
    "<font size=\"+1\" color=\"red\">Replace this cell with code and plots predicting: (1) weekly temperature, (2) daily temperature. Always use up to 4 lags, and try to find the lags leading to the smaller error.</font>"
   ]
  },
  {
   "cell_type": "markdown",
   "metadata": {},
   "source": [
    "<font size=\"+1\" color=\"red\">Replace this cell with a brief commentary on what you observe when predicting temperature.</font>"
   ]
  },
  {
   "cell_type": "markdown",
   "metadata": {},
   "source": [
    "<font size=\"+1\" color=\"red\">Replace this cell with code and plots predicting: (1) monthly rainfall, (2) weekly rainfall, (3) daily rainfall.  Always use up to 4 lags, and try to find the lags leading to the smaller error.</font>"
   ]
  },
  {
   "cell_type": "markdown",
   "metadata": {},
   "source": [
    "<font size=\"+1\" color=\"red\">Replace this cell with a brief commentary on what you observe when trying to predict rainfall.</font>"
   ]
  },
  {
   "cell_type": "markdown",
   "metadata": {},
   "source": [
    "# DELIVER (individually)\n",
    "\n",
    "Remember to read the section on \"delivering your code\" in the [course evaluation guidelines](https://github.com/chatox/data-mining-course/blob/master/upf/upf-evaluation.md).\n",
    "\n",
    "Deliver a zip file containing:\n",
    "\n",
    "* This notebook\n",
    "\n",
    "## Extra points available\n",
    "\n",
    "For more learning and extra points, create a model for temperature that uses cross-correlations. This means, you can use the variables *temp_min*, *temp_avg*, *temp_max*, *rainfall*, *windspeed_avg*, and *windspeed_gusts* up to the previous day to predict *temp_avg* on the current day. You only need to be careful not to include any `lag=0` measure, otherwise you would not be predicting the future. Include plots and a brief commentary indicating whether you obtained any improvements.\n",
    "\n",
    "**Note:** if you go for the extra points, add ``<font size=\"+2\" color=\"blue\">Additional results: cross correlations</font>`` at the top of your notebook. \n",
    "\n",
    "<font size=\"-1\" color=\"gray\">(Remove this cell when delivering.)</font>"
   ]
  },
  {
   "cell_type": "markdown",
   "metadata": {},
   "source": [
    "<font size=\"+2\" color=\"#003300\">I hereby declare that, except for the code provided by the course instructors, all of my code, report, and figures were produced by myself.</font>"
   ]
  }
 ],
 "metadata": {
  "kernelspec": {
   "display_name": "Python 3",
   "language": "python",
   "name": "python3"
  },
  "language_info": {
   "codemirror_mode": {
    "name": "ipython",
    "version": 3
   },
   "file_extension": ".py",
   "mimetype": "text/x-python",
   "name": "python",
   "nbconvert_exporter": "python",
   "pygments_lexer": "ipython3",
   "version": "3.10.12"
  }
 },
 "nbformat": 4,
 "nbformat_minor": 2
}
