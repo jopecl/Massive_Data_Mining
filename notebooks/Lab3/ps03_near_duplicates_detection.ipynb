{
 "cells": [
  {
   "cell_type": "markdown",
   "metadata": {},
   "source": [
    "# Practice Session 03: Find near-duplicates using shingling"
   ]
  },
  {
   "cell_type": "markdown",
   "metadata": {},
   "source": [
    "Author: <font color=\"blue\">José María Pérez Clar</font>\n",
    "\n",
    "E-mail: <font color=\"blue\">josemaria.perez02@estudiant.upf.edu</font>\n",
    "\n",
    "Date: <font color=\"blue\">11/10/2023</font>"
   ]
  },
  {
   "cell_type": "code",
   "execution_count": 1,
   "metadata": {},
   "outputs": [],
   "source": [
    "import io\n",
    "import json\n",
    "import gzip\n",
    "import re\n",
    "import random\n",
    "import numpy as np\n",
    "import matplotlib.pyplot as plt\n",
    "from timeit import default_timer as timer\n",
    "import datetime"
   ]
  },
  {
   "cell_type": "code",
   "execution_count": null,
   "metadata": {},
   "outputs": [],
   "source": [
    "# \"CovidLockdownCatalonia.json.gz\" available at https://drive.google.com/file/d/1u3VznvrxA4lfWfuJTKg0y3fVXsVULq0D/view?usp=sharing"
   ]
  },
  {
   "cell_type": "code",
   "execution_count": 2,
   "metadata": {},
   "outputs": [
    {
     "name": "stdout",
     "output_type": "stream",
     "text": [
      "Read 10000 documents\n"
     ]
    }
   ],
   "source": [
    "# Input file\n",
    "INPUT_FILENAME = \"CovidLockdownCatalonia.json.gz\"\n",
    "\n",
    "# Array for storing messages\n",
    "messages = []\n",
    "MAX_MESSAGES = 10000\n",
    "\n",
    "with gzip.open(INPUT_FILENAME, \"rt\", encoding=\"utf-8\") as input_file:\n",
    "    \n",
    "    messages_read = 0\n",
    "    for line in input_file:\n",
    "            \n",
    "        # Read message\n",
    "        tweet = json.loads(line)\n",
    "\n",
    "        # Keep only messages in Catalan\n",
    "        if tweet[\"lang\"] == \"ca\":\n",
    "            \n",
    "            messages_read += 1\n",
    "            \n",
    "            if messages_read <= MAX_MESSAGES:\n",
    "                author = tweet[\"user\"][\"screen_name\"]\n",
    "                message = tweet[\"full_text\"]\n",
    "                messages.append(message)\n",
    "\n",
    "print(\"Read %d documents\" % len(messages))"
   ]
  },
  {
   "cell_type": "markdown",
   "metadata": {},
   "source": [
    "# 1. Auxiliary functions"
   ]
  },
  {
   "cell_type": "code",
   "execution_count": 3,
   "metadata": {},
   "outputs": [],
   "source": [
    "def jaccard_similarity(l1, l2):\n",
    "    set1 = set(l1)\n",
    "    set2 = set(l2)\n",
    "    a = len(set1.intersection(set2))\n",
    "    b = len(set1.union(set2))\n",
    "    \n",
    "    if (b==0):\n",
    "        return 0\n",
    "    \n",
    "    return a/b"
   ]
  },
  {
   "cell_type": "code",
   "execution_count": 4,
   "metadata": {},
   "outputs": [
    {
     "name": "stdout",
     "output_type": "stream",
     "text": [
      "The first comparison has a jaccard similarity of:  0.6666666666666666\n",
      "The second comparison has a jaccard similarity of:  0.75\n",
      "The third comparison has a jaccard similarity of:  1.0\n",
      "The fourth comparison has a jaccard similarity of:  0\n"
     ]
    }
   ],
   "source": [
    "l1 = ['a', 'b', 'c', 'e' , 'f']\n",
    "l2 = ['a', 'b', 'c', 'd' , 'f']\n",
    "result1 = jaccard_similarity(l1, l2)\n",
    "print(\"The first comparison has a jaccard similarity of: \", result1)\n",
    "\n",
    "l3 = ['a', 'b', 'c', 'e' , 'f' , 'g','h']\n",
    "l4 = ['a', 'b', 'c', 'd' , 'f' ,'g','h']\n",
    "result2 = jaccard_similarity(l3, l4)\n",
    "print(\"The second comparison has a jaccard similarity of: \", result2)\n",
    "\n",
    "l5 = ['a', 'b', 'c' , 'd', 'e']\n",
    "l6 = ['a', 'b', 'c' , 'd', 'e']\n",
    "result3 = jaccard_similarity(l5, l6)\n",
    "print(\"The third comparison has a jaccard similarity of: \", result3)\n",
    "\n",
    "\n",
    "\n",
    "l7 = []\n",
    "l8 = []\n",
    "result4 = jaccard_similarity(l7, l8)\n",
    "print(\"The fourth comparison has a jaccard similarity of: \", result4)"
   ]
  },
  {
   "cell_type": "code",
   "execution_count": 52,
   "metadata": {},
   "outputs": [
    {
     "name": "stdout",
     "output_type": "stream",
     "text": [
      "Original Text 1: RT This is the first example of José!\n",
      "Cleaned Text 1: this is the first example of jose\n",
      "\n",
      "Original Text 2: CHANGE text and   Multiple   Spaces and paral·lelize\n",
      "Cleaned Text 2: change text and multiple spaces and parallelize\n",
      "\n",
      "Original Text 3: 12345 test 4 special characters: @#$%&*}()-_+\n",
      "Cleaned Text 3: 12345 test 4 special characters \n",
      "\n",
      "Original Text 4: https://www.ex1.com and http://ex2.es\n",
      "Cleaned Text 4: and\n",
      "\n",
      "Original Text 5:   Too many   spaces  in this text \n",
      "Cleaned Text 5: too many spaces in this text\n"
     ]
    }
   ],
   "source": [
    "def clean(text):\n",
    "    char_wrong = ['Ñ','ñ','ó','à','ò','í','è','é','ú','l·l','L·L','ç','Ç']\n",
    "    char_right = ['n','n','o','a','o','i','e','e','u','ll','ll','c','c'] \n",
    "    \n",
    "    text = re.sub(r'^RT ', '', text)\n",
    "    text = text.lower()\n",
    "    for char in range(len(char_wrong)):                                             \n",
    "        text = re.sub(char_wrong[char], char_right[char], text)\n",
    "    text = re.sub(r'https?://\\S+', '', text)\n",
    "    text = text.strip()\n",
    "    text = re.sub(r'[^a-z0-9 ]', '', text)\n",
    "    text = re.sub(r'  +', ' ', text)\n",
    "    \n",
    "    return text\n",
    "\n",
    "text1 = \"RT This is the first example of José!\"\n",
    "text2 = \"CHANGE text and   Multiple   Spaces and paral·lelize\"\n",
    "text3 = \"12345 test 4 special characters: @#$%&*}()-_+\"\n",
    "text4 = \"https://www.ex1.com and http://ex2.es\"\n",
    "text5 = \"  Too many   spaces  in this text \"\n",
    "\n",
    "cleaned_text1 = clean(text1)\n",
    "cleaned_text2 = clean(text2)\n",
    "cleaned_text3 = clean(text3)\n",
    "cleaned_text4 = clean(text4)\n",
    "cleaned_text5 = clean(text5)\n",
    "\n",
    "print(\"Original Text 1:\", text1)\n",
    "print(\"Cleaned Text 1:\", cleaned_text1)\n",
    "print(\"\\nOriginal Text 2:\", text2)\n",
    "print(\"Cleaned Text 2:\", cleaned_text2)\n",
    "print(\"\\nOriginal Text 3:\", text3)\n",
    "print(\"Cleaned Text 3:\", cleaned_text3)\n",
    "print(\"\\nOriginal Text 4:\", text4)\n",
    "print(\"Cleaned Text 4:\", cleaned_text4)\n",
    "print(\"\\nOriginal Text 5:\", text5)\n",
    "print(\"Cleaned Text 5:\", cleaned_text5)"
   ]
  },
  {
   "cell_type": "markdown",
   "metadata": {},
   "source": [
    "# 2. Implement an n-gram extractor"
   ]
  },
  {
   "cell_type": "code",
   "execution_count": 6,
   "metadata": {},
   "outputs": [],
   "source": [
    "MIN_TOKEN_LENGTH = 3\n",
    "\n",
    "def ngrams(text, size):\n",
    "    tokens = clean(text).split()\n",
    "    ngrams = []\n",
    "    rightsize_tokens = []\n",
    "    \n",
    "    for token in tokens:\n",
    "        if len(token)>= MIN_TOKEN_LENGTH:\n",
    "            rightsize_tokens.append(token)\n",
    "\n",
    "    if size <= len(rightsize_tokens):\n",
    "        for i in range(len(rightsize_tokens) - size + 1):\n",
    "            ngram = ' '.join(rightsize_tokens[i:i+size])\n",
    "            ngrams.append(ngram)\n",
    "    \n",
    "    return ngrams"
   ]
  },
  {
   "cell_type": "code",
   "execution_count": 7,
   "metadata": {},
   "outputs": [
    {
     "name": "stdout",
     "output_type": "stream",
     "text": [
      "RT @diariARA: Comerciants xinesos donen mascaretes i gel antisèptic a Badalona per lluitar contra el coronavirus https://t.co/ybYXFxphIu\n",
      "['diariara comerciants xinesos', 'comerciants xinesos donen', 'xinesos donen mascaretes', 'donen mascaretes gel', 'mascaretes gel antiseptic', 'gel antiseptic badalona', 'antiseptic badalona per', 'badalona per lluitar', 'per lluitar contra', 'lluitar contra coronavirus']\n"
     ]
    }
   ],
   "source": [
    "print(messages[9780])\n",
    "print(ngrams(messages[9780], 3))"
   ]
  },
  {
   "cell_type": "markdown",
   "metadata": {},
   "source": [
    "# 3. Estimation for brute force method"
   ]
  },
  {
   "cell_type": "code",
   "execution_count": 8,
   "metadata": {},
   "outputs": [],
   "source": [
    "# LEAVE AS-IS\n",
    "\n",
    "def time_brute_force_similarities(messages, limit, ngram_size):\n",
    "    if limit > len(messages):\n",
    "        raise ValueError(\"Limit should be less than or equal than the number of messages\")\n",
    "        \n",
    "    # Start a timer\n",
    "    start = timer()\n",
    "\n",
    "    # Iterate through document identifiers\n",
    "    for docid1 in range(np.min([len(messages), limit])):\n",
    "\n",
    "        # Clean document 1 and extract ngrams\n",
    "        doc1 = clean(messages[docid1])\n",
    "        ngrams1 = ngrams(doc1, ngram_size)\n",
    "\n",
    "        # Iterate through document identifiers larger than doc2\n",
    "        for docid2 in range(docid1+1, np.min([len(messages), limit])):\n",
    "                         \n",
    "            # Clean document 2 and extract ngrams\n",
    "            doc2 = clean(messages[docid2])\n",
    "            ngrams2 = ngrams(doc2, ngram_size)\n",
    "\n",
    "            # Compute similarity\n",
    "            similarity = jaccard_similarity(ngrams1, ngrams2)\n",
    "\n",
    "    end = timer()\n",
    "    return(end - start)"
   ]
  },
  {
   "cell_type": "code",
   "execution_count": 44,
   "metadata": {},
   "outputs": [
    {
     "data": {
      "image/png": "[encoded data removed]",
      "text/plain": [
       "<Figure size 1000x600 with 1 Axes>"
      ]
     },
     "metadata": {},
     "output_type": "display_data"
    }
   ],
   "source": [
    "x_values = []\n",
    "y_values = []\n",
    "\n",
    "for limit in range(1, 2002, 150):\n",
    "    time_taken = time_brute_force_similarities(messages, limit, ngram_size=4)\n",
    "    x_values.append(limit)\n",
    "    y_values.append(time_taken)\n",
    "\n",
    "plt.figure(figsize=(10, 6))\n",
    "plt.plot(x_values, y_values, marker='o', linestyle='-')\n",
    "plt.title('Time to Compare Messages vs. Number of Messages')\n",
    "plt.xlabel('Number of Messages to Check')\n",
    "plt.ylabel('Time (seconds)')\n",
    "\n",
    "plt.show()"
   ]
  },
  {
   "cell_type": "markdown",
   "metadata": {},
   "source": [
    "The plot shows that the time it takes to check the messages incresases at something similar to an exponential rate at first, but that stabilises later. Finding the time it will take analytically is very hard, nonetheless, we can make a decent estimation. Knowing that checking about 2000 messages takes about 110 seconds and the slope is decreasing to the point that we can see it already is about m=(110-90/1950-1800), we could place an upper bound and say that if the function keeps increasing as it is and does not decrease its growth anymore (which is what seems is going to happen), moving forward 8000 messages would mean moving up (110-90/1950-1800)x8000 = 1066.6 seconds.\n",
    "\n",
    "With this information, assuming the function will increase monotonously from 2000 on, we could place an estimation around 1176 seconds for the 10000 messages. This comes out to be 0 hours, 19 minutes and 36 seconds."
   ]
  },
  {
   "cell_type": "markdown",
   "metadata": {},
   "source": [
    "# 4. Computing the doc-ngram matrix"
   ]
  },
  {
   "cell_type": "markdown",
   "metadata": {},
   "source": [
    "## 4.1 Create list of all ngrams"
   ]
  },
  {
   "cell_type": "code",
   "execution_count": 54,
   "metadata": {},
   "outputs": [
    {
     "name": "stdout",
     "output_type": "stream",
     "text": [
      "There are 54014 distinct ngrams in the 10000 documents\n"
     ]
    }
   ],
   "source": [
    "NGRAM_SIZE = 4\n",
    "\n",
    "ngram_to_index = {}\n",
    "index_to_ngram = {}\n",
    "next_index = 0\n",
    "\n",
    "for message in messages:\n",
    "    all_ngrams = ngrams(message, NGRAM_SIZE)\n",
    "    for ngram in all_ngrams:\n",
    "        if ngram not in ngram_to_index: #we know that if it is in one dictionary it will also be in the other\n",
    "            ngram_to_index[ngram] = next_index\n",
    "            index_to_ngram[next_index] = ngram\n",
    "            next_index += 1\n",
    "\n",
    "num_distinct_ngrams = next_index\n",
    "print(\"There are %d distinct ngrams in the %d documents\" % (num_distinct_ngrams, len(messages)))"
   ]
  },
  {
   "cell_type": "code",
   "execution_count": 57,
   "metadata": {},
   "outputs": [
    {
     "name": "stdout",
     "output_type": "stream",
     "text": [
      "vilaweb coronavirus lhora treure\n",
      "100\n"
     ]
    }
   ],
   "source": [
    "a = index_to_ngram[100]\n",
    "print(a)\n",
    "print(ngram_to_index[a])"
   ]
  },
  {
   "cell_type": "markdown",
   "metadata": {},
   "source": [
    "## 2.2 Create table ngrams x documents"
   ]
  },
  {
   "cell_type": "code",
   "execution_count": 58,
   "metadata": {},
   "outputs": [
    {
     "name": "stdout",
     "output_type": "stream",
     "text": [
      "Matrix dimensions: 54014 rows (distinct shingles) x 10000 columns (distinct documents)\n"
     ]
    }
   ],
   "source": [
    "# LEAVE AS-IS\n",
    "\n",
    "# Create dense matrix in which every cell contains the value \"False\"\n",
    "M_ngram_doc = np.full((num_distinct_ngrams, len(messages)), False)\n",
    "\n",
    "# Print the number of rows and columns of this matrix\n",
    "# numpy.matrix.shape is a tuple, shape[0] is the number of rows, shape[1] the number of columns\n",
    "print(\"Matrix dimensions: %d rows (distinct shingles) x %d columns (distinct documents)\" % M_ngram_doc.shape)"
   ]
  },
  {
   "cell_type": "code",
   "execution_count": 61,
   "metadata": {
    "scrolled": false
   },
   "outputs": [],
   "source": [
    "counter = 0\n",
    "for docid in range(len(messages)):\n",
    "    message = messages[docid]\n",
    "    all_ngrams = ngrams(message, NGRAM_SIZE)\n",
    "    for ngram in all_ngrams:\n",
    "        M_ngram_doc[ngram_to_index[ngram]][docid] = True\n",
    "        counter +=1      "
   ]
  },
  {
   "cell_type": "code",
   "execution_count": 66,
   "metadata": {},
   "outputs": [
    {
     "name": "stdout",
     "output_type": "stream",
     "text": [
      "Matrix Density: 0.020328803643499833 %\n"
     ]
    }
   ],
   "source": [
    "total_cells = M_ngram_doc.size\n",
    "density = (counter / total_cells) * 100\n",
    "print(\"Matrix Density:\", density, \"%\")"
   ]
  },
  {
   "cell_type": "code",
   "execution_count": 76,
   "metadata": {},
   "outputs": [
    {
     "name": "stdout",
     "output_type": "stream",
     "text": [
      "\n",
      "\n",
      "Positions of non-zeros in column of docid  9602  of M_ngram_doc\n",
      "\n",
      "Clean message:\n",
      " emergenciescat que puc fer i que no faqs del coronavirus a 14 de marc si us plau demanem difusio\n",
      "\n",
      "Non-zeros in corresponding row:\n",
      "861 [ emergenciescat que puc fer ]\n",
      "862 [ que puc fer que ]\n",
      "31086 [ puc fer que faqs ]\n",
      "31087 [ fer que faqs del ]\n",
      "31088 [ que faqs del coronavirus ]\n",
      "31089 [ faqs del coronavirus marc ]\n",
      "31090 [ del coronavirus marc plau ]\n",
      "31091 [ coronavirus marc plau demanem ]\n",
      "31092 [ marc plau demanem difusio ]\n",
      "\n",
      "----------------------------------------------------------------------------\n",
      "\n",
      "\n",
      "Positions of non-zeros in column of docid  941  of M_ngram_doc\n",
      "\n",
      "Clean message:\n",
      " hospiolot usem de forma responsable els recursos sanitaris061 urgencies per coronavirus i sanitaries012 consultes general\n",
      "\n",
      "Non-zeros in corresponding row:\n",
      "1054 [ usem forma responsable els ]\n",
      "1055 [ forma responsable els recursos ]\n",
      "1056 [ responsable els recursos sanitaris061 ]\n",
      "1057 [ els recursos sanitaris061 urgencies ]\n",
      "1058 [ recursos sanitaris061 urgencies per ]\n",
      "1059 [ sanitaris061 urgencies per coronavirus ]\n",
      "1060 [ urgencies per coronavirus sanitaries012 ]\n",
      "1061 [ per coronavirus sanitaries012 consultes ]\n",
      "7710 [ hospiolot usem forma responsable ]\n",
      "7711 [ coronavirus sanitaries012 consultes general ]\n",
      "\n",
      "----------------------------------------------------------------------------\n"
     ]
    }
   ],
   "source": [
    "def print_column(id):\n",
    "    print('\\n')\n",
    "    print('Positions of non-zeros in column of docid ',id,' of M_ngram_doc')\n",
    "    print(\"\\nClean message:\\n\",clean(messages[id]))\n",
    "    row_ = 0\n",
    "    print('\\nNon-zeros in corresponding row:')\n",
    "    for row in M_ngram_doc:\n",
    "        if row[id]:\n",
    "            print(row_, '[',index_to_ngram[row_],']')\n",
    "        row_+=1\n",
    "        \n",
    "    print('\\n----------------------------------------------------------------------------')\n",
    "        \n",
    "#TEST THE FUNCTION\n",
    "print_column(9602)\n",
    "print_column(941)"
   ]
  },
  {
   "cell_type": "markdown",
   "metadata": {},
   "source": [
    "# 3. Implement a permutation generator"
   ]
  },
  {
   "cell_type": "code",
   "execution_count": 16,
   "metadata": {},
   "outputs": [
    {
     "name": "stdout",
     "output_type": "stream",
     "text": [
      "[16, 1, 7, 10, 18, 15, 11, 12, 5, 4, 2, 0, 8, 13, 17, 14, 6, 3, 19, 9]\n"
     ]
    }
   ],
   "source": [
    "def random_permutation(k):\n",
    "    permutation = list(range(k))\n",
    "    random.shuffle(permutation)\n",
    "    return permutation\n",
    "\n",
    "test_permut = random_permutation(20)\n",
    "print(test_permut)"
   ]
  },
  {
   "cell_type": "code",
   "execution_count": 17,
   "metadata": {},
   "outputs": [
    {
     "name": "stdout",
     "output_type": "stream",
     "text": [
      "Test one permutation:\n",
      "['3 (test3)', '2 (test2)', '1 (test1)', '5 (test5)', '4 (test4)']\n",
      "['3 (beta)', '2 (gamma)', '1 (alpha)', '5 (epsilon)', '4 (delta)']\n",
      "\n",
      "Test another permutation\n",
      "['2 (test2)', '4 (test4)', '1 (test1)', '3 (test3)', '5 (test5)']\n",
      "['2 (gamma)', '4 (delta)', '1 (alpha)', '3 (beta)', '5 (epsilon)']\n"
     ]
    }
   ],
   "source": [
    "# LEAVE AS-IS\n",
    "\n",
    "# Permute a list according to a permutation\n",
    "def permuter(original_list, permutation):\n",
    "    permuted_list = []\n",
    "    for index in permutation:\n",
    "        permuted_list.append(original_list[index])\n",
    "    return permuted_list\n",
    "\n",
    "# Code for testing permutations\n",
    "original_list_1 = [\"1 (test1)\", \"2 (test2)\", \"3 (test3)\", \"4 (test4)\", \"5 (test5)\"]\n",
    "original_list_2 = [\"1 (alpha)\", \"2 (gamma)\", \"3 (beta)\", \"4 (delta)\", \"5 (epsilon)\"]\n",
    "\n",
    "print(\"Test one permutation:\")\n",
    "permutation_1 = random_permutation(5)\n",
    "print(permuter(original_list_1, permutation_1))\n",
    "print(permuter(original_list_2, permutation_1))\n",
    "\n",
    "print()\n",
    "\n",
    "print(\"Test another permutation\")\n",
    "permutation_2 = random_permutation(5)\n",
    "print(permuter(original_list_1, permutation_2))\n",
    "print(permuter(original_list_2, permutation_2))"
   ]
  },
  {
   "cell_type": "markdown",
   "metadata": {},
   "source": [
    "# 4. Compute the signature of each document"
   ]
  },
  {
   "cell_type": "code",
   "execution_count": 18,
   "metadata": {},
   "outputs": [
    {
     "name": "stdout",
     "output_type": "stream",
     "text": [
      "Permutation 0: 44080, 6902, 14180, ...\n",
      "Permutation 1: 30935, 10025, 1528, ...\n",
      "Permutation 2: 12567, 46375, 41758, ...\n",
      "Permutation 3: 20943, 32296, 19054, ...\n",
      "Permutation 4: 34719, 39916, 16685, ...\n"
     ]
    }
   ],
   "source": [
    "# Leave this code as-is\n",
    "\n",
    "NUM_PERMUTATIONS = 5\n",
    "permutations = []\n",
    "\n",
    "# Create the permutations\n",
    "for i in range(NUM_PERMUTATIONS):\n",
    "    permutation = random_permutation(num_distinct_ngrams)\n",
    "    permutations.append(random_permutation(num_distinct_ngrams))\n",
    "\n",
    "# Visualize the permutations by printing their first 3 elements\n",
    "for i in range(len(permutations)):\n",
    "    permutation = permutations[i]\n",
    "    print(\"Permutation %d: %d, %d, %d, ...\" % (i, permutation[0], permutation[1], permutation[2] ))"
   ]
  },
  {
   "cell_type": "code",
   "execution_count": 19,
   "metadata": {},
   "outputs": [
    {
     "name": "stdout",
     "output_type": "stream",
     "text": [
      "Creating signatures for permutation 1/5\n",
      "- Scanning document 0 of 10000\n",
      "- Scanning document 1000 of 10000\n",
      "- Scanning document 2000 of 10000\n",
      "- Scanning document 3000 of 10000\n",
      "- Scanning document 4000 of 10000\n",
      "- Scanning document 5000 of 10000\n",
      "- Scanning document 6000 of 10000\n",
      "- Scanning document 7000 of 10000\n",
      "- Scanning document 8000 of 10000\n",
      "- Scanning document 9000 of 10000\n",
      "Creating signatures for permutation 2/5\n",
      "- Scanning document 0 of 10000\n",
      "- Scanning document 1000 of 10000\n",
      "- Scanning document 2000 of 10000\n",
      "- Scanning document 3000 of 10000\n",
      "- Scanning document 4000 of 10000\n",
      "- Scanning document 5000 of 10000\n",
      "- Scanning document 6000 of 10000\n",
      "- Scanning document 7000 of 10000\n",
      "- Scanning document 8000 of 10000\n",
      "- Scanning document 9000 of 10000\n",
      "Creating signatures for permutation 3/5\n",
      "- Scanning document 0 of 10000\n",
      "- Scanning document 1000 of 10000\n",
      "- Scanning document 2000 of 10000\n",
      "- Scanning document 3000 of 10000\n",
      "- Scanning document 4000 of 10000\n",
      "- Scanning document 5000 of 10000\n",
      "- Scanning document 6000 of 10000\n",
      "- Scanning document 7000 of 10000\n",
      "- Scanning document 8000 of 10000\n",
      "- Scanning document 9000 of 10000\n",
      "Creating signatures for permutation 4/5\n",
      "- Scanning document 0 of 10000\n",
      "- Scanning document 1000 of 10000\n",
      "- Scanning document 2000 of 10000\n",
      "- Scanning document 3000 of 10000\n",
      "- Scanning document 4000 of 10000\n",
      "- Scanning document 5000 of 10000\n",
      "- Scanning document 6000 of 10000\n",
      "- Scanning document 7000 of 10000\n",
      "- Scanning document 8000 of 10000\n",
      "- Scanning document 9000 of 10000\n",
      "Creating signatures for permutation 5/5\n",
      "- Scanning document 0 of 10000\n",
      "- Scanning document 1000 of 10000\n",
      "- Scanning document 2000 of 10000\n",
      "- Scanning document 3000 of 10000\n",
      "- Scanning document 4000 of 10000\n",
      "- Scanning document 5000 of 10000\n",
      "- Scanning document 6000 of 10000\n",
      "- Scanning document 7000 of 10000\n",
      "- Scanning document 8000 of 10000\n",
      "- Scanning document 9000 of 10000\n"
     ]
    }
   ],
   "source": [
    "M_signature_doc = np.full((NUM_PERMUTATIONS, len(messages)), np.nan)\n",
    "\n",
    "# Find the first ngram in a document, according to a permutation\n",
    "def find_first_one(docid, permutation):\n",
    "    for shingle_id in permutation:\n",
    "        if M_ngram_doc[shingle_id, docid] == True:\n",
    "            return shingle_id\n",
    "    return -1\n",
    "\n",
    "# Create permutations\n",
    "for permutation_num in range(NUM_PERMUTATIONS):\n",
    "    print(\"Creating signatures for permutation %d/%d\" % (permutation_num+1, NUM_PERMUTATIONS))\n",
    "    permutation = permutations[permutation_num]\n",
    "    for docid in range(len(messages)):\n",
    "        if docid % 1000 == 0:\n",
    "            print(\"- Scanning document %d of %d\" % (docid, len(messages)))\n",
    "        \n",
    "        first_ngram_id = find_first_one(docid, permutation)\n",
    "        if first_ngram_id != -1:\n",
    "            M_signature_doc[permutation_num, docid] = first_ngram_id"
   ]
  },
  {
   "cell_type": "code",
   "execution_count": 20,
   "metadata": {},
   "outputs": [
    {
     "name": "stdout",
     "output_type": "stream",
     "text": [
      "Document #385\n",
      "Message       : RT @gencat: 🔴 El @govern de la @gencat anuncia el #confinament de tot Catalunya.\n",
      "\n",
      "Davant l’emergència de la #COVID19, el missatge és clau:…\n",
      "Clean message : gencat el govern de la gencat anuncia el confinament de tot catalunyadavant lemergencia de la covid19 el missatge es clau\n",
      "Ngrams        : [3609, 3610, 3611, 3612, 3613, 3614, 3615, 3616]\n",
      "Signature     : [3609.0, 3611.0, 3612.0, 3613.0, 3609.0]\n",
      "\n",
      "Document #627\n",
      "Message       : PROCICAT_CORONAVIRUS. El @govern de la @gencat anuncia el #confinament de tot Catalunya. Davant l’emergència de la #COVID19, el missatge és clau: limitar la mobilitat ajudarà a evitar la propagació del #coronavirus. Evitem desplaçaments i reduïm la vida social #JoEmQuedoACasa\n",
      "Clean message : procicatcoronavirus el govern de la gencat anuncia el confinament de tot catalunya davant lemergencia de la covid19 el missatge es clau limitar la mobilitat ajudara a evitar la propagacio del coronavirus evitem desplaaments i redum la vida social joemquedoacasa\n",
      "Ngrams        : [217, 1107, 1108, 1109, 3610, 3611, 3616, 5364, 5365, 5366, 5367, 5368, 5369, 5370, 5371, 5372, 5373, 5374, 5375, 5376, 5377, 5378]\n",
      "Signature     : [5371.0, 3611.0, 5376.0, 5366.0, 5373.0]\n"
     ]
    }
   ],
   "source": [
    "# Leave this code as-is\n",
    "\n",
    "def extract_ngrams(docid):\n",
    "    return [x for x in range(num_distinct_ngrams) if M_ngram_doc[x, docid] == True]\n",
    "\n",
    "def extract_signature(docid):\n",
    "    return [M_signature_doc[x, docid] for x in range(NUM_PERMUTATIONS)]\n",
    "\n",
    "def print_sig(messages, M_ngram_doc, M_signature_doc, i):\n",
    "    print(\"Document #%d\" % i)\n",
    "    print(\"Message       : %s\" % messages[i])\n",
    "    print(\"Clean message : %s\" % clean(messages[i]))\n",
    "    print(\"Ngrams        : %s\" % extract_ngrams(i))\n",
    "    print(\"Signature     : %s\" % extract_signature(i))\n",
    "\n",
    "        \n",
    "i = 385\n",
    "j = 627\n",
    "\n",
    "print_sig(messages, M_ngram_doc, M_signature_doc, i )\n",
    "\n",
    "print()\n",
    "\n",
    "print_sig(messages, M_ngram_doc, M_signature_doc, j )"
   ]
  },
  {
   "cell_type": "markdown",
   "metadata": {},
   "source": [
    "# 5. Compare all pairs of signatures"
   ]
  },
  {
   "cell_type": "code",
   "execution_count": 43,
   "metadata": {},
   "outputs": [
    {
     "name": "stdout",
     "output_type": "stream",
     "text": [
      "0/10000 documents scanned\n",
      "The document 16 has 71 full matches and 0 partial matches\n",
      "RT @emergenciescat: ⚠️ Es demana a la ciutadania limitar al màxim i, si es pot, EVITAR DESPLAÇAMENTS de cap de setmana. Tot el que sigui ma…\n",
      "-------------------------------\n",
      "\n",
      "The document 42 has 46 full matches and 6 partial matches\n",
      "RT @VilaWeb: Els @mossos diuen que és més senzill confinar el Principat que diverses ciutats a la vegada https://t.co/piyLz82e9d\n",
      "-------------------------------\n",
      "\n",
      "The document 53 has 57 full matches and 0 partial matches\n",
      "RT @Oriol_Pintos: Sóc advocat laboralista. Davant aquesta situació d'incertesa jurídica generalitzada pel #Coronavirus que afecta i afectar…\n",
      "-------------------------------\n",
      "\n",
      "The document 77 has 6 full matches and 177 partial matches\n",
      "RT @emergenciescat: ✅ Què puc fer i ⛔ què no si estic en una zona afectada pel confinament? \n",
      "\n",
      "#ProteccioCivil #Coronavirus https://t.co/lxz…\n",
      "-------------------------------\n",
      "\n",
      "The document 166 has 56 full matches and 0 partial matches\n",
      "RT @yeyaboya: Les imatges de cues de cotxes sortint de Madrid són demencials. Quina irresponsabilitat. Quina mala gestió #COVID19\n",
      "-------------------------------\n",
      "\n",
      "The document 328 has 65 full matches and 0 partial matches\n",
      "RT @QuimTorraiPla: Estem preparats per fer-ho. Cal que l’Estat accedeixi a aturar entrades i sortides als ports, aeroports i vies ferroviàr…\n",
      "-------------------------------\n",
      "\n",
      "500/10000 documents scanned\n",
      "1000/10000 documents scanned\n",
      "2000/10000 documents scanned\n",
      "4000/10000 documents scanned\n",
      "4500/10000 documents scanned\n",
      "5000/10000 documents scanned\n",
      "The document 5109 has 66 full matches and 0 partial matches\n",
      "RT @CarlesHeredia: ⚠️ Namíbia, un país amb un sistema sanitari molt dèbil, anuncia els 2 primers casos de #coronavirus.\n",
      "\n",
      "Són 2 turistes esp…\n",
      "-------------------------------\n",
      "\n",
      "The document 5117 has 71 full matches and 0 partial matches\n",
      "RT @QuimTorraiPla: He trucat el Lehendakari Urkullu per valorar l'avenç de la pandèmia del coronavirus i la resposta que cal donar-hi. Coin…\n",
      "-------------------------------\n",
      "\n",
      "The document 5129 has 54 full matches and 0 partial matches\n",
      "RT @epaluzie: Una vergonya. 155 a Interior, Sanitat, Transports. Els qui no han fet el que calia quan tocava, ara a donar ordres perquè \"no…\n",
      "-------------------------------\n",
      "\n",
      "The document 5271 has 54 full matches and 0 partial matches\n",
      "RT @QuimTorraiPla: Màxima difusió - i seguiment- a les recomanacions d’ @emergenciescat :\n",
      "-------------------------------\n",
      "\n",
      "5500/10000 documents scanned\n",
      "The document 5636 has 80 full matches and 0 partial matches\n",
      "RT @Antoni_Gelonch: Com a sanitari he d dir q el discurs i les mesures d @sanchezcastejon no tenen res a veure ni amb la lluita contra la p…\n",
      "-------------------------------\n",
      "\n",
      "7500/10000 documents scanned\n",
      "9500/10000 documents scanned\n"
     ]
    }
   ],
   "source": [
    "is_possible_duplicate = {}\n",
    "\n",
    "# Iterate through all documents\n",
    "for docid1 in range(len(messages)):\n",
    "\n",
    "    # Do not examine again a document that is a possible duplicate\n",
    "    if docid1 not in is_possible_duplicate:\n",
    "\n",
    "        # Counters for full and partial signature matches\n",
    "        count_sig_full_matches = 0\n",
    "        count_sig_partial_matches = 0\n",
    "\n",
    "        # Extract the signature of doc1\n",
    "        signature1 = extract_signature(docid1)\n",
    "        if docid1 % 500 == 0:\n",
    "            print(\"%d/%d documents scanned\" % (docid1, len(messages)))\n",
    "\n",
    "        # Iterate through documents with docid larger than doc1\n",
    "        for docid2 in range(docid1 + 1, len(messages)):\n",
    "\n",
    "            # If this has not already been marked as a duplicate of another document\n",
    "            if docid2 not in is_possible_duplicate:\n",
    "\n",
    "                # Extract signature of doc2\n",
    "                signature2 = extract_signature(docid2)\n",
    "\n",
    "                similarity = jaccard_similarity(set(signature1), set(signature2))\n",
    "                \n",
    "                if similarity == 1:\n",
    "                    count_sig_full_matches += 1\n",
    "                    is_possible_duplicate[docid2] = docid1\n",
    "                    \n",
    "                elif similarity > 0.2:\n",
    "                    count_sig_partial_matches += 1\n",
    "                    is_possible_duplicate[docid2] = docid1\n",
    "\n",
    "\n",
    "        # Check if doc1 is a possible duplicate of any document\n",
    "        if (count_sig_partial_matches + count_sig_full_matches) >= 50:\n",
    "            print('The document' , docid1, 'has', count_sig_full_matches , 'full matches and' , count_sig_partial_matches, 'partial matches')\n",
    "            print(messages[docid1])\n",
    "            print('-------------------------------\\n')"
   ]
  },
  {
   "cell_type": "markdown",
   "metadata": {},
   "source": [
    "The document 16 has 71 full matches and 0 partial matches\n",
    "RT @emergenciescat: ⚠️ Es demana a la ciutadania limitar al màxim i, si es pot, EVITAR DESPLAÇAMENTS de cap de setmana. Tot el que sigui ma…\n",
    "\n",
    "This tweet is an emergency message that was emited by an official organism, so it is being re-tweeted many times so that it can reach as many people as possible but the information of the message is not being altered because the goal is not to share an opinion on the topic but to spread the message. "
   ]
  },
  {
   "cell_type": "code",
   "execution_count": 40,
   "metadata": {},
   "outputs": [
    {
     "name": "stdout",
     "output_type": "stream",
     "text": [
      "Original Document:\n",
      " RT @emergenciescat: ✅ Què puc fer i ⛔ què no si estic en una zona afectada pel confinament? \n",
      "\n",
      "#ProteccioCivil #Coronavirus https://t.co/lxz…\n",
      "Partial Match Document:\n",
      " RT @emergenciescat: ⚠️ Es demana a la ciutadania limitar al màxim i, si es pot, EVITAR DESPLAÇAMENTS de cap de setmana. Tot el que sigui ma…\n"
     ]
    }
   ],
   "source": [
    "print('Original Document:\\n', messages[77])\n",
    "print('Partial Match Document:\\n', messages[1174])"
   ]
  },
  {
   "cell_type": "markdown",
   "metadata": {},
   "source": [
    "Original Document:\n",
    " RT @emergenciescat: ✅ Què puc fer i ⛔ què no si estic en una zona afectada pel confinament? \n",
    "#ProteccioCivil #Coronavirus https://t.co/lxz…\n",
    "\n",
    "Partial Match Document:\n",
    " RT @emergenciescat: ⚠️ Es demana a la ciutadania limitar al màxim i, si es pot, EVITAR DESPLAÇAMENTS de cap de setmana. Tot el que sigui ma…\n",
    "\n",
    "In this case, we see two tweets on the topic of the coronavirus. Logically, since they talk about the same thing they have many similarities (in both cases they're talking about what or what not to do) but since they are substantially different, we can only consider them very related tweets that are not duplicates of each other.\n"
   ]
  },
  {
   "cell_type": "markdown",
   "metadata": {},
   "source": [
    "<font size=\"+2\" color=\"#003300\">I hereby declare that, except for the code provided by the course instructors, all of my code, report, and figures were produced by myself.</font>"
   ]
  }
 ],
 "metadata": {
  "kernelspec": {
   "display_name": "Python 3 (ipykernel)",
   "language": "python",
   "name": "python3"
  },
  "language_info": {
   "codemirror_mode": {
    "name": "ipython",
    "version": 3
   },
   "file_extension": ".py",
   "mimetype": "text/x-python",
   "name": "python",
   "nbconvert_exporter": "python",
   "pygments_lexer": "ipython3",
   "version": "3.9.13"
  }
 },
 "nbformat": 4,
 "nbformat_minor": 2
}
