{
 "cells": [
  {
   "cell_type": "markdown",
   "metadata": {},
   "source": [
    "# Practice Session 08: Data streams"
   ]
  },
  {
   "cell_type": "markdown",
   "metadata": {},
   "source": [
    "Author: <font color=\"blue\">José M. Pérez Clar</font>\n",
    "\n",
    "E-mail: <font color=\"blue\">josemaria.perez02@estudiant.upf.edu</font>\n",
    "\n",
    "Date: <font color=\"blue\">22/11/2023</font>"
   ]
  },
  {
   "cell_type": "code",
   "execution_count": 1,
   "metadata": {},
   "outputs": [],
   "source": [
    "import io\n",
    "import nltk\n",
    "import gzip\n",
    "import random\n",
    "import statistics\n",
    "import secrets\n",
    "import re\n",
    "import gzip"
   ]
  },
  {
   "cell_type": "markdown",
   "metadata": {},
   "source": [
    "# 0. Dataset and how to iterate"
   ]
  },
  {
   "cell_type": "code",
   "execution_count": 2,
   "metadata": {},
   "outputs": [],
   "source": [
    "# Leave this code as-is\n",
    "\n",
    "INPUT_FILE = \"movie_lines.tsv.gz\""
   ]
  },
  {
   "cell_type": "code",
   "execution_count": 3,
   "metadata": {},
   "outputs": [],
   "source": [
    "# Leave this code as-is\n",
    "\n",
    "# Producer in Python that reads a filename by words\n",
    "def read_by_words(filename, max_words=-1, report_every=-1):\n",
    "    \n",
    "    # Open the input file\n",
    "    with gzip.open(INPUT_FILE, \"rt\", encoding='utf8') as file:\n",
    "        \n",
    "        # Initialize counter of words to stop at max_words\n",
    "        counter = 0\n",
    "    \n",
    "        # Regular expression to identify words having 3 letters or more and beginning with a-z\n",
    "        word_expr = re.compile('^[a-z]{2,}$', re.IGNORECASE)\n",
    "\n",
    "        # Iterate through lines in the file\n",
    "        for line in file:\n",
    "            \n",
    "            elements = line.split(\"\\t\")\n",
    "            \n",
    "            text = \"\"\n",
    "            if len(elements) >= 5:\n",
    "                text = elements[4].strip()\n",
    "                                        \n",
    "            if counter > max_words and max_words != -1:\n",
    "                break\n",
    "                \n",
    "            for word in nltk.word_tokenize(text):\n",
    "                          \n",
    "                if word_expr.match(word):\n",
    "                    counter += 1\n",
    "                    \n",
    "                    # Report\n",
    "                    if (report_every != -1) and (counter % report_every == 0):\n",
    "                        if max_words == -1:\n",
    "                            print(\"- Read %d words so far\" % (counter))\n",
    "                        else:\n",
    "                            print(\"- Read %d/%d words so far\" % (counter, max_words))\n",
    "\n",
    "                    # Produce the word in lowercase\n",
    "                    yield word.lower()"
   ]
  },
  {
   "cell_type": "code",
   "execution_count": 4,
   "metadata": {},
   "outputs": [
    {
     "name": "stdout",
     "output_type": "stream",
     "text": [
      "Current word 'work'\n",
      "Current word 'you'\n",
      "Current word 'slung'\n",
      "Current word 'awake'\n",
      "Current word 'stop'\n",
      "- Read 100000/300000 words so far\n",
      "Current word 'to'\n",
      "Current word 'cover'\n",
      "Current word 'about'\n",
      "Current word 'think'\n",
      "Current word 'had'\n",
      "Current word 'grandparents'\n",
      "Current word 'to'\n",
      "Current word 'help'\n",
      "Current word 'purified'\n",
      "Current word 'there'\n",
      "- Read 200000/300000 words so far\n",
      "Current word 'see'\n",
      "Current word 'says'\n",
      "Current word 'have'\n",
      "Current word 'it'\n",
      "Current word 'woman'\n",
      "Current word 'here'\n",
      "Current word 'huntin'\n",
      "Current word 'take'\n",
      "Current word 'well'\n",
      "Current word 'with'\n",
      "Current word 'the'\n",
      "Current word 'it'\n",
      "Current word 'is'\n",
      "- Read 300000/300000 words so far\n"
     ]
    }
   ],
   "source": [
    "# Leave this code as-is\n",
    "\n",
    "# Iterate through the file\n",
    "for word in read_by_words(INPUT_FILE, max_words=300000, report_every=100000):\n",
    "    # Prints 1/10000 of words\n",
    "    if random.random() < 0.0001:\n",
    "        print(\"Current word '%s'\" % (word)) "
   ]
  },
  {
   "cell_type": "code",
   "execution_count": null,
   "metadata": {},
   "outputs": [],
   "source": [
    "# Run this if above gives an error about 'punkt'\n",
    "#nltk.download('punkt')"
   ]
  },
  {
   "cell_type": "markdown",
   "metadata": {},
   "source": [
    "# 1. Determine approximately the top-10 words"
   ]
  },
  {
   "cell_type": "markdown",
   "metadata": {},
   "source": [
    "<font size=\"+1\" color=\"red\">Replace this cell with your code for \"add_reservoir\"</font>"
   ]
  },
  {
   "cell_type": "code",
   "execution_count": 7,
   "metadata": {},
   "outputs": [],
   "source": [
    "def add_reservoir(reservoir, item, max_reservoir_size):\n",
    " \n",
    "    s = len(reservoir)\n",
    "\n",
    "    if s < max_reservoir_size:\n",
    "        reservoir.append(item)\n",
    "        \n",
    "    else: #choose randomly the element to replace\n",
    "        replace_index = random.randint(0, max_reservoir_size - 1)\n",
    "        reservoir.pop(replace_index)\n",
    "        reservoir.append(item)\n",
    "\n",
    "    assert(len(reservoir) <= max_reservoir_size)"
   ]
  },
  {
   "cell_type": "markdown",
   "metadata": {},
   "source": [
    "<font size=\"+1\" color=\"red\">Replace this cell with your code for \"reservoir_sampling\"</font>"
   ]
  },
  {
   "cell_type": "code",
   "execution_count": 8,
   "metadata": {},
   "outputs": [],
   "source": [
    "def reservoir_sampling(filename, reservoir_size, max_words=-1, report_every=-1):\n",
    "    reservoir = []\n",
    "\n",
    "    words_read = 0\n",
    "\n",
    "    for word in read_by_words(filename, max_words=max_words, report_every=report_every):\n",
    "        \n",
    "        words_read += 1\n",
    "        probability = reservoir_size / words_read \n",
    "\n",
    "        if random.random() < probability: #decide wether to ignore or not\n",
    "            add_reservoir(reservoir, word, reservoir_size)\n",
    "        \n",
    "    return (words_read, reservoir)"
   ]
  },
  {
   "cell_type": "code",
   "execution_count": 9,
   "metadata": {
    "scrolled": true
   },
   "outputs": [
    {
     "name": "stdout",
     "output_type": "stream",
     "text": [
      "- Read 100000/1000000 words so far\n",
      "- Read 200000/1000000 words so far\n",
      "- Read 300000/1000000 words so far\n",
      "- Read 400000/1000000 words so far\n",
      "- Read 500000/1000000 words so far\n",
      "- Read 600000/1000000 words so far\n",
      "- Read 700000/1000000 words so far\n",
      "- Read 800000/1000000 words so far\n",
      "- Read 900000/1000000 words so far\n",
      "- Read 1000000/1000000 words so far\n",
      "Number of items seen    : 1000023\n",
      "Number of items sampled : 1500\n"
     ]
    }
   ],
   "source": [
    "# Leave this code as-is\n",
    "\n",
    "reservoir_size = 1500\n",
    "(items_seen, reservoir) = reservoir_sampling(INPUT_FILE, reservoir_size, max_words=1000000, report_every=100000)\n",
    "\n",
    "print(\"Number of items seen    : %d\" % items_seen)\n",
    "print(\"Number of items sampled : %d\" % len(reservoir) )"
   ]
  },
  {
   "cell_type": "code",
   "execution_count": 25,
   "metadata": {},
   "outputs": [
    {
     "name": "stdout",
     "output_type": "stream",
     "text": [
      "71 you\n",
      "53 the\n",
      "37 to\n",
      "32 it\n",
      "29 what\n",
      "25 of\n",
      "24 that\n",
      "20 me\n",
      "17 we\n",
      "17 do\n"
     ]
    }
   ],
   "source": [
    "# Leave this code as-is\n",
    "\n",
    "freq = {}\n",
    "for item in reservoir:\n",
    "    freq[item] = reservoir.count(item)\n",
    "\n",
    "most_frequent_items = sorted([(frequency, word) for word, frequency in freq.items()], reverse=True)[:10]\n",
    "for absolute_frequency, word in most_frequent_items:\n",
    "    print(\"%d %s\" % (absolute_frequency, word))"
   ]
  },
  {
   "cell_type": "markdown",
   "metadata": {},
   "source": [
    "<font size=\"+1\" color=\"red\">Replace this cell with your code to print the top items and their relative frequencies</font>"
   ]
  },
  {
   "cell_type": "code",
   "execution_count": 33,
   "metadata": {},
   "outputs": [
    {
     "name": "stdout",
     "output_type": "stream",
     "text": [
      "The word ( you ) has absolute frequency = 6 and relative frequency = 0.4 %\n",
      "The word ( the ) has absolute frequency = 5 and relative frequency = 0.33333333333333337 %\n",
      "The word ( it ) has absolute frequency = 5 and relative frequency = 0.33333333333333337 %\n",
      "The word ( is ) has absolute frequency = 3 and relative frequency = 0.2 %\n",
      "The word ( not ) has absolute frequency = 3 and relative frequency = 0.2 %\n",
      "The word ( just ) has absolute frequency = 2 and relative frequency = 0.13333333333333333 %\n",
      "The word ( think ) has absolute frequency = 2 and relative frequency = 0.13333333333333333 %\n",
      "The word ( to ) has absolute frequency = 2 and relative frequency = 0.13333333333333333 %\n",
      "The word ( ai ) has absolute frequency = 2 and relative frequency = 0.13333333333333333 %\n",
      "The word ( say ) has absolute frequency = 2 and relative frequency = 0.13333333333333333 %\n",
      "The word ( do ) has absolute frequency = 2 and relative frequency = 0.13333333333333333 %\n",
      "The word ( me ) has absolute frequency = 2 and relative frequency = 0.13333333333333333 %\n",
      "The word ( her ) has absolute frequency = 2 and relative frequency = 0.13333333333333333 %\n",
      "The word ( so ) has absolute frequency = 2 and relative frequency = 0.13333333333333333 %\n",
      "The word ( him ) has absolute frequency = 2 and relative frequency = 0.13333333333333333 %\n"
     ]
    }
   ],
   "source": [
    "sorted_items = sorted(freq.items(), key=lambda x: x[1], reverse=True)\n",
    "\n",
    "total_items = len(reservoir)\n",
    "relative_frequencies = [(item, frequency / total_items * 100) for item, frequency in sorted_items[:15]]\n",
    "\n",
    "for item, relative_frequency in relative_frequencies:\n",
    "    absolute_frequency = freq[item]\n",
    "    print(\"The word (\", item, \") has absolute frequency =\", absolute_frequency, \"and relative frequency =\", relative_frequency, \"%\")\n"
   ]
  },
  {
   "cell_type": "markdown",
   "metadata": {},
   "source": [
    "<font size=\"+1\" color=\"red\">Increase the max limit of words so that one pass takes no more than 5 minutes to be completed. Replace this cell with your code to try different reservoir sizes. In each case, print your estimate for the relative and absolute frequency of the words in the entire dataset.</font>"
   ]
  },
  {
   "cell_type": "code",
   "execution_count": 34,
   "metadata": {
    "scrolled": true
   },
   "outputs": [
    {
     "name": "stdout",
     "output_type": "stream",
     "text": [
      "Reservoir Size: 50\n",
      "- Read 100000/1500000 words so far\n",
      "- Read 200000/1500000 words so far\n",
      "- Read 300000/1500000 words so far\n",
      "- Read 400000/1500000 words so far\n",
      "- Read 500000/1500000 words so far\n",
      "- Read 600000/1500000 words so far\n",
      "- Read 700000/1500000 words so far\n",
      "- Read 800000/1500000 words so far\n",
      "- Read 900000/1500000 words so far\n",
      "- Read 1000000/1500000 words so far\n",
      "- Read 1100000/1500000 words so far\n",
      "- Read 1200000/1500000 words so far\n",
      "- Read 1300000/1500000 words so far\n",
      "- Read 1400000/1500000 words so far\n",
      "- Read 1500000/1500000 words so far\n",
      "The word ( too ) has absolute frequency = 2 and relative frequency = 4.0 %\n",
      "The word ( the ) has absolute frequency = 2 and relative frequency = 4.0 %\n",
      "The word ( if ) has absolute frequency = 2 and relative frequency = 4.0 %\n",
      "The word ( of ) has absolute frequency = 2 and relative frequency = 4.0 %\n",
      "The word ( in ) has absolute frequency = 2 and relative frequency = 4.0 %\n",
      "Reservoir Size: 100\n",
      "- Read 100000/1500000 words so far\n",
      "- Read 200000/1500000 words so far\n",
      "- Read 300000/1500000 words so far\n",
      "- Read 400000/1500000 words so far\n",
      "- Read 500000/1500000 words so far\n",
      "- Read 600000/1500000 words so far\n",
      "- Read 700000/1500000 words so far\n",
      "- Read 800000/1500000 words so far\n",
      "- Read 900000/1500000 words so far\n",
      "- Read 1000000/1500000 words so far\n",
      "- Read 1100000/1500000 words so far\n",
      "- Read 1200000/1500000 words so far\n",
      "- Read 1300000/1500000 words so far\n",
      "- Read 1400000/1500000 words so far\n",
      "- Read 1500000/1500000 words so far\n",
      "The word ( you ) has absolute frequency = 5 and relative frequency = 5.0 %\n",
      "The word ( to ) has absolute frequency = 4 and relative frequency = 4.0 %\n",
      "The word ( us ) has absolute frequency = 3 and relative frequency = 3.0 %\n",
      "The word ( the ) has absolute frequency = 3 and relative frequency = 3.0 %\n",
      "The word ( of ) has absolute frequency = 3 and relative frequency = 3.0 %\n",
      "Reservoir Size: 500\n",
      "- Read 100000/1500000 words so far\n",
      "- Read 200000/1500000 words so far\n",
      "- Read 300000/1500000 words so far\n",
      "- Read 400000/1500000 words so far\n",
      "- Read 500000/1500000 words so far\n",
      "- Read 600000/1500000 words so far\n",
      "- Read 700000/1500000 words so far\n",
      "- Read 800000/1500000 words so far\n",
      "- Read 900000/1500000 words so far\n",
      "- Read 1000000/1500000 words so far\n",
      "- Read 1100000/1500000 words so far\n",
      "- Read 1200000/1500000 words so far\n",
      "- Read 1300000/1500000 words so far\n",
      "- Read 1400000/1500000 words so far\n",
      "- Read 1500000/1500000 words so far\n",
      "The word ( you ) has absolute frequency = 27 and relative frequency = 5.4 %\n",
      "The word ( to ) has absolute frequency = 19 and relative frequency = 3.8 %\n",
      "The word ( it ) has absolute frequency = 18 and relative frequency = 3.5999999999999996 %\n",
      "The word ( the ) has absolute frequency = 13 and relative frequency = 2.6 %\n",
      "The word ( of ) has absolute frequency = 11 and relative frequency = 2.1999999999999997 %\n",
      "Reservoir Size: 1000\n",
      "- Read 100000/1500000 words so far\n",
      "- Read 200000/1500000 words so far\n",
      "- Read 300000/1500000 words so far\n",
      "- Read 400000/1500000 words so far\n",
      "- Read 500000/1500000 words so far\n",
      "- Read 600000/1500000 words so far\n",
      "- Read 700000/1500000 words so far\n",
      "- Read 800000/1500000 words so far\n",
      "- Read 900000/1500000 words so far\n",
      "- Read 1000000/1500000 words so far\n",
      "- Read 1100000/1500000 words so far\n",
      "- Read 1200000/1500000 words so far\n",
      "- Read 1300000/1500000 words so far\n",
      "- Read 1400000/1500000 words so far\n",
      "- Read 1500000/1500000 words so far\n",
      "The word ( you ) has absolute frequency = 39 and relative frequency = 3.9 %\n",
      "The word ( the ) has absolute frequency = 33 and relative frequency = 3.3000000000000003 %\n",
      "The word ( it ) has absolute frequency = 30 and relative frequency = 3.0 %\n",
      "The word ( do ) has absolute frequency = 22 and relative frequency = 2.1999999999999997 %\n",
      "The word ( to ) has absolute frequency = 20 and relative frequency = 2.0 %\n",
      "Reservoir Size: 1500\n",
      "- Read 100000/1500000 words so far\n",
      "- Read 200000/1500000 words so far\n",
      "- Read 300000/1500000 words so far\n",
      "- Read 400000/1500000 words so far\n",
      "- Read 500000/1500000 words so far\n",
      "- Read 600000/1500000 words so far\n",
      "- Read 700000/1500000 words so far\n",
      "- Read 800000/1500000 words so far\n",
      "- Read 900000/1500000 words so far\n",
      "- Read 1000000/1500000 words so far\n",
      "- Read 1100000/1500000 words so far\n",
      "- Read 1200000/1500000 words so far\n",
      "- Read 1300000/1500000 words so far\n",
      "- Read 1400000/1500000 words so far\n",
      "- Read 1500000/1500000 words so far\n",
      "The word ( you ) has absolute frequency = 94 and relative frequency = 6.266666666666667 %\n",
      "The word ( the ) has absolute frequency = 48 and relative frequency = 3.2 %\n",
      "The word ( to ) has absolute frequency = 41 and relative frequency = 2.7333333333333334 %\n",
      "The word ( that ) has absolute frequency = 32 and relative frequency = 2.1333333333333333 %\n",
      "The word ( it ) has absolute frequency = 31 and relative frequency = 2.0666666666666664 %\n"
     ]
    }
   ],
   "source": [
    "reservoir_sizes = [50 , 100, 500, 1000, 1500]\n",
    "\n",
    "for reservoir_size in reservoir_sizes:\n",
    "    print(\"\\n\\nReservoir Size:\", reservoir_size)\n",
    "    words_read, result_reservoir = reservoir_sampling(INPUT_FILE, reservoir_size, 1500000, 100000) #max words increased\n",
    "     \n",
    "    freq = {}\n",
    "    for item in result_reservoir:\n",
    "        freq[item] = result_reservoir.count(item)\n",
    "    \n",
    "    sorted_items = sorted(freq.items(), key=lambda x: x[1], reverse=True)\n",
    "\n",
    "    total_items = reservoir_size\n",
    "    relative_frequencies = [(item, frequency / total_items * 100) for item, frequency in sorted_items[:5]]\n",
    "\n",
    "    for item, relative_frequency in relative_frequencies:\n",
    "        absolute_frequency = freq[item]\n",
    "        print(\"The word (\", item, \") has absolute frequency =\", absolute_frequency, \"and relative frequency =\", relative_frequency, \"%\")\n",
    "\n",
    "    "
   ]
  },
  {
   "cell_type": "markdown",
   "metadata": {},
   "source": [
    "The results become somehwat stable (the top-3 words remain mostly the same), when the reservoir size is at least around 100 words. Before, since the reservoir is too small, the fluctuations of these 3 top words are much much higher. This is understandable since the probability of replacing words for others that might be more common is smaller for smaller reservoirs."
   ]
  },
  {
   "cell_type": "markdown",
   "metadata": {},
   "source": [
    "<font size=\"+1\" color=\"red\">Remove the max limit of words and re-run. Replace this cell with a brief commentary indicating what reservoir size you would recommend to use, and your overall conclusions.</font>"
   ]
  },
  {
   "cell_type": "code",
   "execution_count": 35,
   "metadata": {
    "scrolled": true
   },
   "outputs": [
    {
     "name": "stdout",
     "output_type": "stream",
     "text": [
      "Reservoir Size: 50\n",
      "- Read 100000/1500000000000000000000000 words so far\n",
      "- Read 200000/1500000000000000000000000 words so far\n",
      "- Read 300000/1500000000000000000000000 words so far\n",
      "- Read 400000/1500000000000000000000000 words so far\n",
      "- Read 500000/1500000000000000000000000 words so far\n",
      "- Read 600000/1500000000000000000000000 words so far\n",
      "- Read 700000/1500000000000000000000000 words so far\n",
      "- Read 800000/1500000000000000000000000 words so far\n",
      "- Read 900000/1500000000000000000000000 words so far\n",
      "- Read 1000000/1500000000000000000000000 words so far\n",
      "- Read 1100000/1500000000000000000000000 words so far\n",
      "- Read 1200000/1500000000000000000000000 words so far\n",
      "- Read 1300000/1500000000000000000000000 words so far\n",
      "- Read 1400000/1500000000000000000000000 words so far\n",
      "- Read 1500000/1500000000000000000000000 words so far\n",
      "- Read 1600000/1500000000000000000000000 words so far\n",
      "- Read 1700000/1500000000000000000000000 words so far\n",
      "- Read 1800000/1500000000000000000000000 words so far\n",
      "- Read 1900000/1500000000000000000000000 words so far\n",
      "- Read 2000000/1500000000000000000000000 words so far\n",
      "- Read 2100000/1500000000000000000000000 words so far\n",
      "- Read 2200000/1500000000000000000000000 words so far\n",
      "- Read 2300000/1500000000000000000000000 words so far\n",
      "- Read 2400000/1500000000000000000000000 words so far\n",
      "- Read 2500000/1500000000000000000000000 words so far\n",
      "- Read 2600000/1500000000000000000000000 words so far\n",
      "- Read 2700000/1500000000000000000000000 words so far\n",
      "- Read 2800000/1500000000000000000000000 words so far\n",
      "- Read 2900000/1500000000000000000000000 words so far\n",
      "The word ( you ) has absolute frequency = 4 and relative frequency = 8.0 %\n",
      "The word ( it ) has absolute frequency = 3 and relative frequency = 6.0 %\n",
      "The word ( for ) has absolute frequency = 2 and relative frequency = 4.0 %\n",
      "The word ( some ) has absolute frequency = 2 and relative frequency = 4.0 %\n",
      "The word ( that ) has absolute frequency = 2 and relative frequency = 4.0 %\n",
      "Reservoir Size: 100\n",
      "- Read 100000/1500000000000000000000000 words so far\n",
      "- Read 200000/1500000000000000000000000 words so far\n",
      "- Read 300000/1500000000000000000000000 words so far\n",
      "- Read 400000/1500000000000000000000000 words so far\n",
      "- Read 500000/1500000000000000000000000 words so far\n",
      "- Read 600000/1500000000000000000000000 words so far\n",
      "- Read 700000/1500000000000000000000000 words so far\n",
      "- Read 800000/1500000000000000000000000 words so far\n",
      "- Read 900000/1500000000000000000000000 words so far\n",
      "- Read 1000000/1500000000000000000000000 words so far\n",
      "- Read 1100000/1500000000000000000000000 words so far\n",
      "- Read 1200000/1500000000000000000000000 words so far\n",
      "- Read 1300000/1500000000000000000000000 words so far\n",
      "- Read 1400000/1500000000000000000000000 words so far\n",
      "- Read 1500000/1500000000000000000000000 words so far\n",
      "- Read 1600000/1500000000000000000000000 words so far\n",
      "- Read 1700000/1500000000000000000000000 words so far\n",
      "- Read 1800000/1500000000000000000000000 words so far\n",
      "- Read 1900000/1500000000000000000000000 words so far\n",
      "- Read 2000000/1500000000000000000000000 words so far\n",
      "- Read 2100000/1500000000000000000000000 words so far\n",
      "- Read 2200000/1500000000000000000000000 words so far\n",
      "- Read 2300000/1500000000000000000000000 words so far\n",
      "- Read 2400000/1500000000000000000000000 words so far\n",
      "- Read 2500000/1500000000000000000000000 words so far\n",
      "- Read 2600000/1500000000000000000000000 words so far\n",
      "- Read 2700000/1500000000000000000000000 words so far\n",
      "- Read 2800000/1500000000000000000000000 words so far\n",
      "- Read 2900000/1500000000000000000000000 words so far\n",
      "The word ( you ) has absolute frequency = 7 and relative frequency = 7.000000000000001 %\n",
      "The word ( it ) has absolute frequency = 5 and relative frequency = 5.0 %\n",
      "The word ( in ) has absolute frequency = 5 and relative frequency = 5.0 %\n",
      "The word ( the ) has absolute frequency = 4 and relative frequency = 4.0 %\n",
      "The word ( your ) has absolute frequency = 3 and relative frequency = 3.0 %\n",
      "Reservoir Size: 500\n",
      "- Read 100000/1500000000000000000000000 words so far\n",
      "- Read 200000/1500000000000000000000000 words so far\n",
      "- Read 300000/1500000000000000000000000 words so far\n",
      "- Read 400000/1500000000000000000000000 words so far\n",
      "- Read 500000/1500000000000000000000000 words so far\n",
      "- Read 600000/1500000000000000000000000 words so far\n",
      "- Read 700000/1500000000000000000000000 words so far\n",
      "- Read 800000/1500000000000000000000000 words so far\n",
      "- Read 900000/1500000000000000000000000 words so far\n",
      "- Read 1000000/1500000000000000000000000 words so far\n",
      "- Read 1100000/1500000000000000000000000 words so far\n",
      "- Read 1200000/1500000000000000000000000 words so far\n",
      "- Read 1300000/1500000000000000000000000 words so far\n",
      "- Read 1400000/1500000000000000000000000 words so far\n",
      "- Read 1500000/1500000000000000000000000 words so far\n",
      "- Read 1600000/1500000000000000000000000 words so far\n",
      "- Read 1700000/1500000000000000000000000 words so far\n",
      "- Read 1800000/1500000000000000000000000 words so far\n",
      "- Read 1900000/1500000000000000000000000 words so far\n",
      "- Read 2000000/1500000000000000000000000 words so far\n",
      "- Read 2100000/1500000000000000000000000 words so far\n",
      "- Read 2200000/1500000000000000000000000 words so far\n",
      "- Read 2300000/1500000000000000000000000 words so far\n",
      "- Read 2400000/1500000000000000000000000 words so far\n",
      "- Read 2500000/1500000000000000000000000 words so far\n",
      "- Read 2600000/1500000000000000000000000 words so far\n",
      "- Read 2700000/1500000000000000000000000 words so far\n",
      "- Read 2800000/1500000000000000000000000 words so far\n",
      "- Read 2900000/1500000000000000000000000 words so far\n",
      "The word ( you ) has absolute frequency = 31 and relative frequency = 6.2 %\n",
      "The word ( to ) has absolute frequency = 19 and relative frequency = 3.8 %\n",
      "The word ( the ) has absolute frequency = 12 and relative frequency = 2.4 %\n",
      "The word ( it ) has absolute frequency = 12 and relative frequency = 2.4 %\n",
      "The word ( this ) has absolute frequency = 9 and relative frequency = 1.7999999999999998 %\n",
      "Reservoir Size: 1000\n",
      "- Read 100000/1500000000000000000000000 words so far\n",
      "- Read 200000/1500000000000000000000000 words so far\n",
      "- Read 300000/1500000000000000000000000 words so far\n",
      "- Read 400000/1500000000000000000000000 words so far\n",
      "- Read 500000/1500000000000000000000000 words so far\n",
      "- Read 600000/1500000000000000000000000 words so far\n",
      "- Read 700000/1500000000000000000000000 words so far\n",
      "- Read 800000/1500000000000000000000000 words so far\n",
      "- Read 900000/1500000000000000000000000 words so far\n",
      "- Read 1000000/1500000000000000000000000 words so far\n",
      "- Read 1100000/1500000000000000000000000 words so far\n",
      "- Read 1200000/1500000000000000000000000 words so far\n",
      "- Read 1300000/1500000000000000000000000 words so far\n",
      "- Read 1400000/1500000000000000000000000 words so far\n",
      "- Read 1500000/1500000000000000000000000 words so far\n",
      "- Read 1600000/1500000000000000000000000 words so far\n",
      "- Read 1700000/1500000000000000000000000 words so far\n",
      "- Read 1800000/1500000000000000000000000 words so far\n",
      "- Read 1900000/1500000000000000000000000 words so far\n",
      "- Read 2000000/1500000000000000000000000 words so far\n",
      "- Read 2100000/1500000000000000000000000 words so far\n",
      "- Read 2200000/1500000000000000000000000 words so far\n",
      "- Read 2300000/1500000000000000000000000 words so far\n",
      "- Read 2400000/1500000000000000000000000 words so far\n",
      "- Read 2500000/1500000000000000000000000 words so far\n",
      "- Read 2600000/1500000000000000000000000 words so far\n",
      "- Read 2700000/1500000000000000000000000 words so far\n",
      "- Read 2800000/1500000000000000000000000 words so far\n",
      "- Read 2900000/1500000000000000000000000 words so far\n",
      "The word ( you ) has absolute frequency = 55 and relative frequency = 5.5 %\n",
      "The word ( the ) has absolute frequency = 44 and relative frequency = 4.3999999999999995 %\n",
      "The word ( it ) has absolute frequency = 25 and relative frequency = 2.5 %\n",
      "The word ( to ) has absolute frequency = 21 and relative frequency = 2.1 %\n",
      "The word ( do ) has absolute frequency = 18 and relative frequency = 1.7999999999999998 %\n",
      "Reservoir Size: 1500\n",
      "- Read 100000/1500000000000000000000000 words so far\n",
      "- Read 200000/1500000000000000000000000 words so far\n",
      "- Read 300000/1500000000000000000000000 words so far\n",
      "- Read 400000/1500000000000000000000000 words so far\n",
      "- Read 500000/1500000000000000000000000 words so far\n",
      "- Read 600000/1500000000000000000000000 words so far\n"
     ]
    },
    {
     "name": "stdout",
     "output_type": "stream",
     "text": [
      "- Read 700000/1500000000000000000000000 words so far\n",
      "- Read 800000/1500000000000000000000000 words so far\n",
      "- Read 900000/1500000000000000000000000 words so far\n",
      "- Read 1000000/1500000000000000000000000 words so far\n",
      "- Read 1100000/1500000000000000000000000 words so far\n",
      "- Read 1200000/1500000000000000000000000 words so far\n",
      "- Read 1300000/1500000000000000000000000 words so far\n",
      "- Read 1400000/1500000000000000000000000 words so far\n",
      "- Read 1500000/1500000000000000000000000 words so far\n",
      "- Read 1600000/1500000000000000000000000 words so far\n",
      "- Read 1700000/1500000000000000000000000 words so far\n",
      "- Read 1800000/1500000000000000000000000 words so far\n",
      "- Read 1900000/1500000000000000000000000 words so far\n",
      "- Read 2000000/1500000000000000000000000 words so far\n",
      "- Read 2100000/1500000000000000000000000 words so far\n",
      "- Read 2200000/1500000000000000000000000 words so far\n",
      "- Read 2300000/1500000000000000000000000 words so far\n",
      "- Read 2400000/1500000000000000000000000 words so far\n",
      "- Read 2500000/1500000000000000000000000 words so far\n",
      "- Read 2600000/1500000000000000000000000 words so far\n",
      "- Read 2700000/1500000000000000000000000 words so far\n",
      "- Read 2800000/1500000000000000000000000 words so far\n",
      "- Read 2900000/1500000000000000000000000 words so far\n",
      "The word ( you ) has absolute frequency = 66 and relative frequency = 4.3999999999999995 %\n",
      "The word ( the ) has absolute frequency = 49 and relative frequency = 3.266666666666666 %\n",
      "The word ( to ) has absolute frequency = 41 and relative frequency = 2.7333333333333334 %\n",
      "The word ( it ) has absolute frequency = 37 and relative frequency = 2.466666666666667 %\n",
      "The word ( do ) has absolute frequency = 26 and relative frequency = 1.7333333333333332 %\n"
     ]
    }
   ],
   "source": [
    "reservoir_sizes = [50 , 100, 500, 1000, 1500]\n",
    "\n",
    "for reservoir_size in reservoir_sizes:\n",
    "    print(\"\\n\\nReservoir Size:\", reservoir_size)\n",
    "    words_read, result_reservoir = reservoir_sampling(INPUT_FILE, reservoir_size, 1500000000000000000000000, 100000)\n",
    "     \n",
    "    freq = {}\n",
    "    for item in result_reservoir:\n",
    "        freq[item] = result_reservoir.count(item)\n",
    "    \n",
    "    sorted_items = sorted(freq.items(), key=lambda x: x[1], reverse=True)\n",
    "\n",
    "    total_items = reservoir_size\n",
    "    relative_frequencies = [(item, frequency / total_items * 100) for item, frequency in sorted_items[:5]]\n",
    "\n",
    "    for item, relative_frequency in relative_frequencies:\n",
    "        absolute_frequency = freq[item]\n",
    "        print(\"The word (\", item, \") has absolute frequency =\", absolute_frequency, \"and relative frequency =\", relative_frequency, \"%\")\n",
    "\n",
    "    "
   ]
  },
  {
   "cell_type": "markdown",
   "metadata": {},
   "source": [
    "When choosing a reservoir size, the first relevant thing to consider is that the reservoir must be representative of the whole dataset. To do so, we ideally would choose the biggest reservoir size (literally the whole dataset), however, the whole point is to be able to save memory and resources while still being able to understand fully our data. For that reason, the best choice of reservoir size will be the the smallest reservoir size that represents the data the best possible. In other words, we will look at the biggest reservoir size, and search for the lowest size that resembles it the most.\n",
    "\n",
    "In our case, we see that reservoir sizes 1000 and 1500 are almost identical in elements' order and have the same elements. Moreover 100 words is enough to accuratly include the top-3 words that appear in the highest size reservoir, as we have mentioned before, while 500 words will bring this accuracy up to the top-4 words. This can be observed in the results above.\n",
    "\n",
    "The decision would really come down to how many resources we can make use of, but from my point of view 500 words would be the ideal trade-off between saving resources and accurately representing the dataset."
   ]
  },
  {
   "cell_type": "markdown",
   "metadata": {},
   "source": [
    "# 2. Determine approximately the distinct number of words"
   ]
  },
  {
   "cell_type": "code",
   "execution_count": 36,
   "metadata": {},
   "outputs": [],
   "source": [
    "# Leave this code as-is\n",
    "\n",
    "def count_trailing_zeroes(number):\n",
    "    count = 0\n",
    "    while number & 1 == 0:\n",
    "        count += 1\n",
    "        number = number >> 1\n",
    "    return count"
   ]
  },
  {
   "cell_type": "code",
   "execution_count": 37,
   "metadata": {},
   "outputs": [],
   "source": [
    "# Leave this code as-is\n",
    "\n",
    "def random_hash_function():\n",
    "    # We use a cryptographically safe generator for the salt of our hash function\n",
    "    salt = secrets.token_bytes(32)\n",
    "    return lambda string: hash(string + str(salt))"
   ]
  },
  {
   "cell_type": "markdown",
   "metadata": {},
   "source": [
    "<font size=\"+1\" color=\"red\">Replace this cell with your code to perform the requested number of passes.</font>"
   ]
  },
  {
   "cell_type": "code",
   "execution_count": 40,
   "metadata": {},
   "outputs": [
    {
     "name": "stdout",
     "output_type": "stream",
     "text": [
      "Estimate on pass 1: 131072 distinct words\n",
      "Estimate on pass 2: 16384 distinct words\n",
      "Estimate on pass 3: 131072 distinct words\n",
      "Estimate on pass 4: 32768 distinct words\n",
      "Estimate on pass 5: 65536 distinct words\n"
     ]
    }
   ],
   "source": [
    "number_of_passes = 5\n",
    "estimates = []\n",
    "\n",
    "for i in range(number_of_passes):\n",
    "    \n",
    "    hash_function = random_hash_function()\n",
    "    max_trailing_zeroes = 0\n",
    "\n",
    "    \n",
    "    for word in read_by_words(INPUT_FILE): #we read the entire file in each. We could add parameters max_words and report_every just like we did in reservoir sampling\n",
    "        \n",
    "        hashed_value = hash_function(word)\n",
    "        trailing_zeroes = count_trailing_zeroes(hashed_value)\n",
    "        max_trailing_zeroes = max(max_trailing_zeroes, trailing_zeroes)\n",
    "\n",
    "        \n",
    "    estimate = 2 ** max_trailing_zeroes\n",
    "    estimates.append(estimate)\n",
    "\n",
    "    print(\"Estimate on pass %d: %d distinct words\" % (i + 1, estimate))\n",
    "    "
   ]
  },
  {
   "cell_type": "code",
   "execution_count": 41,
   "metadata": {},
   "outputs": [
    {
     "name": "stdout",
     "output_type": "stream",
     "text": [
      "* Average of estimates: 75366.4\n",
      "* Median  of estimates: 65536.0\n"
     ]
    }
   ],
   "source": [
    "# Leave this code as-is\n",
    "\n",
    "print(\"* Average of estimates: %.1f\" % statistics.mean(estimates))\n",
    "print(\"* Median  of estimates: %.1f\" % statistics.median(estimates))"
   ]
  },
  {
   "cell_type": "markdown",
   "metadata": {},
   "source": [
    "<font size=\"+1\" color=\"red\">Remove the limit of max words, or set to a high number, but notice that you do no need to use more than one hour of computer processing time, and perform the 10 passes. Replace this cell with the results you obtained in each pass, and whether the average or the median seem more appropriate for this probabilistic counting.</font>"
   ]
  },
  {
   "cell_type": "code",
   "execution_count": 42,
   "metadata": {},
   "outputs": [
    {
     "name": "stdout",
     "output_type": "stream",
     "text": [
      "Estimate on pass 1: 524288 distinct words\n",
      "Estimate on pass 2: 32768 distinct words\n",
      "Estimate on pass 3: 65536 distinct words\n",
      "Estimate on pass 4: 16384 distinct words\n",
      "Estimate on pass 5: 16384 distinct words\n",
      "Estimate on pass 6: 2097152 distinct words\n",
      "Estimate on pass 7: 131072 distinct words\n",
      "Estimate on pass 8: 524288 distinct words\n",
      "Estimate on pass 9: 32768 distinct words\n",
      "Estimate on pass 10: 32768 distinct words\n"
     ]
    }
   ],
   "source": [
    "number_of_passes = 10\n",
    "estimates_10passes = []\n",
    "\n",
    "for i in range(number_of_passes):\n",
    "    \n",
    "    hash_function = random_hash_function()\n",
    "    max_trailing_zeroes = 0\n",
    "\n",
    "    \n",
    "    for word in read_by_words(INPUT_FILE): #limit of words was already removed.\n",
    "        \n",
    "        hashed_value = hash_function(word)\n",
    "        trailing_zeroes = count_trailing_zeroes(hashed_value)\n",
    "        max_trailing_zeroes = max(max_trailing_zeroes, trailing_zeroes)\n",
    "\n",
    "        \n",
    "    estimate = 2 ** max_trailing_zeroes\n",
    "    estimates_10passes.append(estimate)\n",
    "\n",
    "    print(\"Estimate on pass %d: %d distinct words\" % (i + 1, estimate))"
   ]
  },
  {
   "cell_type": "code",
   "execution_count": 43,
   "metadata": {},
   "outputs": [
    {
     "name": "stdout",
     "output_type": "stream",
     "text": [
      "* Average of estimates: 347340.8\n",
      "* Median  of estimates: 49152.0\n"
     ]
    }
   ],
   "source": [
    "print(\"* Average of estimates: %.1f\" % statistics.mean(estimates_10passes))\n",
    "print(\"* Median  of estimates: %.1f\" % statistics.median(estimates_10passes))"
   ]
  },
  {
   "cell_type": "markdown",
   "metadata": {},
   "source": [
    "After looking at the results of the 10-pass execution (and many other executions done for the sake of understanding the process) it seems obvious that the hash function randomly selected has a very high influence over the number of words estimated in every pass, with the number of trailing zeros ranging from 13 up 21 on the different observed executions. \n",
    "\n",
    "In our context, given the high variability of the estimates, the average will be too influenced by extreme values, such as the very large estimate in pass 6 (2097152). On the other hand, the median is less sensitive to these extreme values and provides a measure of the middle value of the distribution of estimates.\n",
    "\n",
    "Therefore, the median is a more adequate measure of central tendency for our algorithm since it is less affected by outliers, such as 2^21 or 2^13. If we had chosen the other option, the extreme values in the estimates that significantly deviate from the typical behaviour would impact the mean disproportionately, leading to non representative estimations in some cases (when these outliers are present)."
   ]
  },
  {
   "cell_type": "markdown",
   "metadata": {},
   "source": [
    "<font size=\"+2\" color=\"#003300\">I hereby declare that, except for the code provided by the course instructors, all of my code, report, and figures were produced by myself.</font>"
   ]
  }
 ],
 "metadata": {
  "kernelspec": {
   "display_name": "Python 3 (ipykernel)",
   "language": "python",
   "name": "python3"
  },
  "language_info": {
   "codemirror_mode": {
    "name": "ipython",
    "version": 3
   },
   "file_extension": ".py",
   "mimetype": "text/x-python",
   "name": "python",
   "nbconvert_exporter": "python",
   "pygments_lexer": "ipython3",
   "version": "3.9.13"
  }
 },
 "nbformat": 4,
 "nbformat_minor": 2
}
